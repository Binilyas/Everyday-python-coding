{
 "cells": [
  {
   "cell_type": "markdown",
   "metadata": {},
   "source": [
    "### Organizing a List\n",
    "\n",
    "Often, you list will be created in an unpredictable order, because we cant all always control the way we input or collect data from our users. and atimes this data need to be presented in oder manner and sometimes you might want to live your list in it orginal form \n",
    "\n",
    "python provides a number different ways to organize the list depending on the situation\n",
    "\n",
    "#### SORTING A LSIT PERMANENTLY WITH THE SORT() METHOD\n",
    "\n",
    "Python’s sort() method makes it relatively easy to sort a list. Imagine we \n",
    "have a list of cars and want to change the order of the list to store them \n",
    "alphabetically. To keep the task simple, let’s assume that all the values in \n",
    "the list are lowercase"
   ]
  },
  {
   "cell_type": "code",
   "execution_count": null,
   "metadata": {},
   "outputs": [
    {
     "name": "stdout",
     "output_type": "stream",
     "text": [
      "['audi', 'bmw', 'subaru', 'toyota']\n"
     ]
    }
   ],
   "source": [
    "cars = ['bmw', 'audi', 'toyota', 'subaru']\n",
    "cars.sort()\n",
    "print(cars)"
   ]
  },
  {
   "cell_type": "markdown",
   "metadata": {},
   "source": [
    "You can also sort this list in reverse-alphabetical order by passing the \n",
    "argument reverse=True to the sort() method. The following example sorts \n",
    "the list of cars in reverse-alphabetical order:"
   ]
  },
  {
   "cell_type": "code",
   "execution_count": 10,
   "metadata": {},
   "outputs": [
    {
     "name": "stdout",
     "output_type": "stream",
     "text": [
      "['toyota', 'subaru', 'bmw', 'audi']\n",
      "___________________________________\n"
     ]
    }
   ],
   "source": [
    "cars.sort(reverse= True)\n",
    "print(cars)\n",
    "print(\"___________________________________\")"
   ]
  },
  {
   "cell_type": "markdown",
   "metadata": {},
   "source": [
    "#### Sorting a List Temporarily with the sorted() Function\n",
    "\n",
    "To maintain the original order of a list but present it in a sorted order, you \n",
    "can use the sorted() function. The sorted() function lets you display your list \n",
    "in a particular order, but doesn’t affect the actual order of the list.\n",
    "Let’s try this function on the list of cars"
   ]
  },
  {
   "cell_type": "code",
   "execution_count": 11,
   "metadata": {},
   "outputs": [
    {
     "name": "stdout",
     "output_type": "stream",
     "text": [
      "Here is the Original list:\n",
      "['toyota', 'subaru', 'bmw', 'audi']\n",
      "____________________________________________\n",
      "Here is the sorted list:\n",
      "['audi', 'bmw', 'subaru', 'toyota']\n"
     ]
    }
   ],
   "source": [
    "print(\"Here is the Original list:\", cars, sep=\"\\n\")\n",
    "print(\"____________________________________________\")\n",
    "\n",
    "print(\"Here is the sorted list:\", sorted(cars), sep=\"\\n\")"
   ]
  },
  {
   "cell_type": "markdown",
   "metadata": {},
   "source": [
    "#### Printing a List in Reverse Order\n",
    "\n",
    "To reverse the original order of a list, you can use the reverse() method. If \n",
    "we originally stored the list of cars in chronological order according to when \n",
    "we owned them, we could easily rearrange the list into reverse-chronological \n",
    "order"
   ]
  },
  {
   "cell_type": "code",
   "execution_count": null,
   "metadata": {},
   "outputs": [
    {
     "name": "stdout",
     "output_type": "stream",
     "text": [
      "['bmw', 'audi', 'toyota', 'subaru']\n",
      "________________________________\n",
      "['subaru', 'toyota', 'audi', 'bmw']\n"
     ]
    }
   ],
   "source": [
    "cars = ['bmw', 'audi', 'toyota', 'subaru']\n",
    "print(cars)\n",
    "print(\"________________________________\")\n",
    "cars.reverse()\n",
    "print(cars)\n",
    "\n",
    "#Notice that reverse() doesn’t sort backward alphabetically; it simply \n",
    "#reverses the order of the list:"
   ]
  },
  {
   "cell_type": "markdown",
   "metadata": {},
   "source": [
    "#### Finding the Length of a List\n",
    "\n",
    "use to check the number of list or number listed users or even number of active users\n"
   ]
  },
  {
   "cell_type": "code",
   "execution_count": 19,
   "metadata": {},
   "outputs": [
    {
     "name": "stdout",
     "output_type": "stream",
     "text": [
      "4\n"
     ]
    }
   ],
   "source": [
    "cars = ['bmw', 'audi', 'toyota', 'subaru']\n",
    "print(len(cars))"
   ]
  },
  {
   "cell_type": "markdown",
   "metadata": {},
   "source": [
    "## TRY IT YOURSELF\n",
    "\n",
    "**3-8. Seeing the World:** Think of at least five places in the world you’d like \n",
    "to visit\n",
    "\n",
    "* Store the locations in a list. Make sure the list is not in alphabetical order.\n",
    "* Print your list in its original order. Don’t worry about printing the list neatly; \n",
    "just print it as a raw Python list\n",
    "* Use sorted() to print your list in alphabetical order without modifying the \n",
    "actual list\n",
    "* Show that your list is still in its original order by printing it\n",
    "* Use sorted() to print your list in reverse-alphabetical order without changing the order of the original list\n",
    "* Show that your list is still in its original order by printing it again.\n",
    "* Use reverse() to change the order of your list. Print the list to show that its \n",
    "order has changed.\n",
    "* Use reverse() to change the order of your list again. Print the list to show \n",
    "it’s back to its original order\n",
    "* Use sort() to change your list so it’s stored in alphabetical order. Print the \n",
    "list to show that its order has been changed\n",
    "* Use sort() to change your list so it’s stored in reverse-alphabetical order. \n",
    "Print the list to show that its order has changed.\n",
    "\n",
    "\n",
    "**3-9. Dinner Guests:** Working with one of the programs from Exercises 3-4 \n",
    "through 3-7 (pages 41–42), use len() to print a message indicating the number \n",
    "of people you’re inviting to dinner.\n",
    "\n",
    "**3-10. Every Function:** Think of things you could store in a list. For example, you \n",
    "could make a list of mountains, rivers, countries, cities, languages, or anything \n",
    "else you’d like. Write a program that creates a list containing these items and \n",
    "then uses each function introduced in this chapter at least once.\n"
   ]
  },
  {
   "cell_type": "code",
   "execution_count": 42,
   "metadata": {},
   "outputs": [
    {
     "name": "stdout",
     "output_type": "stream",
     "text": [
      "['nigeria', 'germany', 'india', 'england', 'france']\n",
      "___________________________________________\n",
      "In Sorted forms:\n",
      "['england', 'france', 'germany', 'india', 'nigeria']\n",
      "___________________________________________\n",
      "in its original form:\n",
      "['nigeria', 'germany', 'india', 'england', 'france']\n",
      "___________________________________________\n",
      "The reverse Aliphabetic order:\n",
      "['nigeria', 'india', 'germany', 'france', 'england']\n",
      "___________________________________________\n",
      "['nigeria', 'germany', 'india', 'england', 'france']\n",
      "___________________________________________\n",
      "['france', 'england', 'india', 'germany', 'nigeria']\n",
      "___________________________________________\n"
     ]
    }
   ],
   "source": [
    "#Store the locations in a list. Make sure the list is not in alphabetical order\n",
    "\n",
    "coutry = ['nigeria', 'germany','india', 'england','france']\n",
    "print(coutry)\n",
    "print(\"___________________________________________\")\n",
    "\n",
    "#Use sorted() to print your list in alphabetical order without modifying the \n",
    "#actual list\n",
    "print(\"In Sorted forms:\", sorted(coutry), sep=\"\\n\")\n",
    "print(\"___________________________________________\")\n",
    "\n",
    "#Show that your list is still in its original order by printing it\n",
    "print(\"in its original form:\", coutry, sep=\"\\n\")\n",
    "print(\"___________________________________________\")\n",
    "\n",
    "#Use sorted() to print your list in reverse-alphabetical order without changing the order of the original list\n",
    "print(\"The reverse Aliphabetic order:\", sorted(coutry, reverse=True), sep=\"\\n\")\n",
    "print(\"___________________________________________\")\n",
    "#Show that your list is still in its original order by printing it\n",
    "print(coutry)\n",
    "print(\"___________________________________________\")\n",
    "\n",
    "#Use reverse() to change the order of your list. Print the list to show that its \n",
    "#order has changed.\n",
    "\n",
    "coutry.reverse()\n",
    "print(coutry)\n",
    "print(\"___________________________________________\")\n"
   ]
  }
 ],
 "metadata": {
  "kernelspec": {
   "display_name": "Arewa-work-space",
   "language": "python",
   "name": "python3"
  },
  "language_info": {
   "codemirror_mode": {
    "name": "ipython",
    "version": 3
   },
   "file_extension": ".py",
   "mimetype": "text/x-python",
   "name": "python",
   "nbconvert_exporter": "python",
   "pygments_lexer": "ipython3",
   "version": "3.12.7"
  }
 },
 "nbformat": 4,
 "nbformat_minor": 2
}
