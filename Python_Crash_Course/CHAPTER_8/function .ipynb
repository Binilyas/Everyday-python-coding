{
 "cells": [
  {
   "cell_type": "markdown",
   "metadata": {},
   "source": [
    "### FUNCTION\n",
    "\n",
    "All what have be using so far a call python built in function examples are:\n",
    "\n",
    "* print function\n",
    "* Del function\n",
    "* len\n",
    "* type\n",
    "* str\n",
    "* int\n",
    "* float E.T.C\n",
    "\n",
    "Also we can Build our function to carried out different task \n",
    "\n",
    "What is Function?\n",
    "\n",
    "A function is a series of procedure of doing things we can create our own function by using\n",
    "```py\n",
    "#Declearing a function\n",
    "def first_fun():                                        #Function Name\n",
    "    print('Hello My name is Abdulrahman')               # The three intentation line are function Bodyy\n",
    "    print(\"Am very much excited to join this programme\")\n",
    "    print(\" Have a worderful day programming\")\n",
    "    \n",
    "# Calling a function\n",
    "first_fun()\n",
    "```"
   ]
  },
  {
   "cell_type": "markdown",
   "metadata": {},
   "source": [
    "### Function without Parameters\n",
    "\n",
    "**FOR EXAMPLE**\n"
   ]
  },
  {
   "cell_type": "code",
   "execution_count": 6,
   "metadata": {},
   "outputs": [
    {
     "name": "stdout",
     "output_type": "stream",
     "text": [
      "Hello! this is declear function without peremeters\n",
      "Thank you for joining us\n",
      "______________________________\n",
      "The sum of two numbers are 50\n"
     ]
    }
   ],
   "source": [
    "# FUNCTION WITHOUT PEREMETERS:.\n",
    "\n",
    "def function_without_peremeters():\n",
    "    print(\"Hello! this is declear function without peremeters\")\n",
    "    print(\"Thank you for joining us\")\n",
    "    \n",
    "# CALLING OR INVOKING THE FUNCTION\n",
    "\n",
    "function_without_peremeters()\n",
    "print('______________________________')\n",
    "\n",
    "#ANOTHER EXAMPLES:\n",
    "def add():\n",
    "    num_1 = 25\n",
    "    num_2 = 25\n",
    "    print(f'The sum of two numbers are {num_1 + num_2}')\n",
    "\n",
    "add()"
   ]
  },
  {
   "cell_type": "markdown",
   "metadata": {},
   "source": [
    "### Function Returning a Value - Part 1\n",
    "\n",
    "\n",
    "All the function have a return value. if the return value is not provided is by diffult *None*  When you use a return value in function the code will stop running after the return value\n",
    "\n",
    "**Example**\n",
    "\n",
    "```py\n",
    "def generate_full_name():\n",
    "    first_name = \"Abdulrahman\"\n",
    "    sur_name = \"Ilyasu\"\n",
    "    full_name = (f\"{first_name} {sur_name}\")\n",
    "    return = full_name\n",
    "\n",
    "print(generate_full_name())\n",
    "\n",
    "# ADDITION OF NUMBERS\n",
    "def add_numbers():\n",
    "    num_1 = 28\n",
    "    num_2 = 90\n",
    "    total = num_1 + num_2\n",
    "    return total\n",
    "\n",
    "print(add_numbers())\n",
    "```"
   ]
  },
  {
   "cell_type": "code",
   "execution_count": 11,
   "metadata": {},
   "outputs": [
    {
     "name": "stdout",
     "output_type": "stream",
     "text": [
      "Abdulrahman Ilyasu\n",
      "____________________________________\n",
      "118\n"
     ]
    }
   ],
   "source": [
    "def generate_full_name():\n",
    "    first_name = \"Abdulrahman\"\n",
    "    sur_name = \"Ilyasu\"\n",
    "    full_name = (f\"{first_name} {sur_name}\")\n",
    "    return full_name\n",
    "\n",
    "print(generate_full_name())\n",
    "print(\"____________________________________\")\n",
    "\n",
    "# ADDITION OF NUMBERS\n",
    "def add_numbers():\n",
    "    num_1 = 28\n",
    "    num_2 = 90\n",
    "    total = num_1 + num_2\n",
    "    return total\n",
    "\n",
    "print(add_numbers())"
   ]
  },
  {
   "cell_type": "markdown",
   "metadata": {},
   "source": [
    "### Function with Parameters\n",
    "A function that take parameters, this parementers can be numbers, boolen, str, int, float etc for examples\n",
    "\n",
    "```py\n",
    "def text(text):\n",
    "    print(text)\n",
    "\n",
    "text(\"Hello my name is Abdulrahman\")\n",
    "\n",
    "```"
   ]
  },
  {
   "cell_type": "code",
   "execution_count": 69,
   "metadata": {},
   "outputs": [
    {
     "name": "stdout",
     "output_type": "stream",
     "text": [
      "Hello my name is Abdulrahman\n",
      "___________________________________\n",
      "Shuaib Mufidat, Welcome to the python programming nice to have you on board\n",
      "_______________\n",
      "('the Sum of a and b is:', 6)\n",
      "_______________________\n",
      "100\n",
      "12\n",
      "The square root of X is 5.0\n",
      "314.0\n",
      "55\n",
      "5050\n",
      "__________________________________\n",
      "5050\n",
      "55\n"
     ]
    }
   ],
   "source": [
    "#FUNCTION WITH PAREMETERS\n",
    "\n",
    "def text(text):\n",
    "    print(text)\n",
    "\n",
    "text(\"Hello my name is Abdulrahman\")\n",
    "print(\"___________________________________\")\n",
    "\n",
    "def welcome(name):\n",
    "    message = (f\"{name}, Welcome to the python programming nice to have you on board\")\n",
    "    return message\n",
    "\n",
    "print(welcome(\"Shuaib Mufidat\"))\n",
    "print('_______________')\n",
    "\n",
    "def addition_of_num(c, d):\n",
    "    total = \"the Sum of a and b is:\", c + d\n",
    "    return total\n",
    "\n",
    "print(addition_of_num(4,2))\n",
    "print(\"_______________________\")\n",
    "\n",
    "def add_ten(num):\n",
    "    total = num + 10\n",
    "    return total\n",
    "\n",
    "print(add_ten(90))\n",
    "\n",
    "# OR \n",
    "def add_six(num):\n",
    "    print(num + 6)\n",
    "    \n",
    "add_six(6)\n",
    "\n",
    "#SQUARE ROOT\n",
    "def square_root(x):\n",
    "    square_root = x ** 0.5\n",
    "    return square_root\n",
    "\n",
    "print(\"The square root of X is\", square_root(25))\n",
    "\n",
    "#AREA OF A CIRCLE\n",
    "\n",
    "def area_of_circle(r):\n",
    "    pi = 3.14\n",
    "    area_of_circle = pi * r **2\n",
    "    return area_of_circle\n",
    "\n",
    "print(area_of_circle(10))\n",
    "\n",
    "\n",
    "#SUM OF NUMBERS\n",
    "def sum_of_numbers(n):\n",
    "    total = 0\n",
    "    for i in range(n + 1):\n",
    "        total +=i\n",
    "    print(total)\n",
    "\n",
    "(sum_of_numbers(10))\n",
    "(sum_of_numbers(100))\n",
    "\n",
    "print(\"__________________________________\")\n",
    "# OR for sum_of_numbers 2\n",
    "def sum_of_numbers_2(x):\n",
    "    total = 0\n",
    "    for x in range(x + 1):\n",
    "        total +=x\n",
    "    return(total)\n",
    "print(sum_of_numbers_2(100))\n",
    "print(sum_of_numbers_2(10))"
   ]
  },
  {
   "cell_type": "markdown",
   "metadata": {},
   "source": [
    "Two Parameter: A function may or may not have a parameter or parameters. A function may also have two or more parameters. If our function takes parameters we should call it with arguments. Let us check a function with two parameters:\n",
    "\n",
    "```py\n",
    "def two_num(a, b):\n",
    "    total = a + b\n",
    "    return total\n",
    "print(two_num(2,25))\n",
    "```"
   ]
  },
  {
   "cell_type": "code",
   "execution_count": 97,
   "metadata": {},
   "outputs": [
    {
     "name": "stdout",
     "output_type": "stream",
     "text": [
      "27\n",
      "50\n",
      "50\n",
      "Abdulrahman Ilyasu\n",
      "Sanni Mufidat\n",
      "Shuaib Mufidat\n",
      "______________________\n",
      "50\n",
      "225\n",
      "______________________\n",
      "Your Age is:  26\n",
      "______________________\n",
      "250N\n"
     ]
    }
   ],
   "source": [
    "def two_num(a, b):\n",
    "    total = a + b\n",
    "    return total\n",
    "print(two_num(2,25))\n",
    "\n",
    "print (two_num(a = 25, b = 25))\n",
    "print(two_num(b = 25, a = 25))\n",
    "\n",
    "# ANOTHER EXAMPLE\n",
    "def full_name(first_name, last_name):\n",
    "    space = \" \"\n",
    "    full_name = last_name + space + first_name\n",
    "    return full_name\n",
    "\n",
    "print(full_name(\"Ilyasu\", \"Abdulrahman\"))\n",
    "print(full_name('Mufidat', 'Sanni'))\n",
    "\n",
    "print(full_name('Mufidat', 'Shuaib'))\n",
    "print(\"______________________\")\n",
    "\n",
    "# products of numbers\n",
    "def products_of_num(num_1, num_2):\n",
    "    products = num_1 * num_2\n",
    "    return products\n",
    "print(products_of_num(25,2))\n",
    "#OR\n",
    "def products_of_num2(arg_1, arg_2):\n",
    "    print(arg_1 * arg_2)\n",
    "    \n",
    "products_of_num2(9, 25)\n",
    "print(\"______________________\")\n",
    "\n",
    "def calculate_age(current_year, birth_year):\n",
    "    age = current_year - birth_year\n",
    "    return(age)\n",
    "print(\"Your Age is: \", calculate_age(2024, 1998))\n",
    "print(\"______________________\")\n",
    "\n",
    "def weight_of_object(mass, gravity):\n",
    "    weight = (mass * gravity)       \n",
    "    return weight\n",
    "print(f'{weight_of_object(25,10)}N')\n"
   ]
  },
  {
   "cell_type": "markdown",
   "metadata": {},
   "source": [
    "### Passing Arguments with Key and Value\n",
    "\n",
    "In passing an arguments with key and value the position of paremeters does not matter for example\n",
    "\n",
    "```py\n",
    "def fam_members(first_born, second_born, last_born):\n",
    "    family_members = (f\"The family members are: {first_born}, {second_born}, {last_born}\")\n",
    "    return family_members\n",
    "\n",
    "print(fam_members(last_born = \"Bilal deen\", first_born = \"Abdulrahman\", second_born = \"Lahadi\"))\n",
    "```"
   ]
  },
  {
   "cell_type": "code",
   "execution_count": 98,
   "metadata": {},
   "outputs": [
    {
     "name": "stdout",
     "output_type": "stream",
     "text": [
      "The family members are: Abdulrahman, Lahadi, Bilal deen\n"
     ]
    }
   ],
   "source": [
    "def fam_members(first_born, second_born, last_born):\n",
    "    family_members = (f\"The family members are: {first_born}, {second_born}, {last_born}\")\n",
    "    return family_members\n",
    "\n",
    "print(fam_members(last_born = \"Bilal deen\", first_born = \"Abdulrahman\", second_born = \"Lahadi\"))"
   ]
  },
  {
   "cell_type": "markdown",
   "metadata": {},
   "source": [
    "### Function Returning a Value - Part 2\n",
    "\n",
    "- Returning a number:\n",
    "  - Returning Boolean Numbers\n",
    "\n",
    "**For Examples**\n",
    "```py\n",
    "def is_even(number):\n",
    "    if number % 2 == 0:\n",
    "        print(\"Even\")\n",
    "        return True\n",
    "    return False\n",
    "\n",
    "# FOR ODD NUMBER\n",
    "def is_odd(number):\n",
    "    if number % 2 != 0:\n",
    "        print(\"it is an Odd Number\")\n",
    "        return True\n",
    "    return False\n",
    "\n",
    "#Checking for more boolean Numbers \n",
    "def checking_numbers(num_1, num_2):\n",
    "    if num_1 <= num_2:\n",
    "        print(\"The first Number is less Than The Second Number\")\n",
    "        return True\n",
    "    print(\"The First Number is greater than the Second Numbers\")\n",
    "    return False\n",
    "\n",
    "```"
   ]
  },
  {
   "cell_type": "code",
   "execution_count": 110,
   "metadata": {},
   "outputs": [
    {
     "name": "stdout",
     "output_type": "stream",
     "text": [
      "Even\n",
      "True\n",
      "______________________\n",
      "it is an Odd Number\n",
      "True\n",
      "______________________________\n",
      "The first Number is less Than The Second Number\n",
      "True\n"
     ]
    }
   ],
   "source": [
    "def is_even(number):\n",
    "    if number % 2 == 0:\n",
    "        print(\"Even\")\n",
    "        return True\n",
    "    return False\n",
    "print(is_even(50))\n",
    "print(\"______________________\")\n",
    "# FOR ODD NUMBER\n",
    "def is_odd(number):\n",
    "    if number % 2 != 0:\n",
    "        print(\"it is an Odd Number\")\n",
    "        return True\n",
    "    print(\"it is NOT an odd number\")\n",
    "    return False\n",
    "\n",
    "print(is_odd(9))\n",
    "print(\"______________________________\")\n",
    "#Checking for boolean numbers\n",
    "def checking_numbers(num_1, num_2):\n",
    "    if num_1 <= num_2:\n",
    "        print(\"The first Number is less Than The Second Number\")\n",
    "        return True\n",
    "    print(\"The First Number is greater than the Second Numbers\")\n",
    "    return False\n",
    "\n",
    "print(checking_numbers(25, 40))"
   ]
  },
  {
   "cell_type": "markdown",
   "metadata": {},
   "source": [
    "- Returning List\n",
    "\n",
    "**For Examples**\n",
    "```py\n",
    "def lst(n):\n",
    "    even = []\n",
    "    for i in range(n + 1):\n",
    "        if i % 2 == 0:\n",
    "            even.append(i)\n",
    "        return even\n",
    "```"
   ]
  },
  {
   "cell_type": "code",
   "execution_count": 120,
   "metadata": {},
   "outputs": [
    {
     "name": "stdout",
     "output_type": "stream",
     "text": [
      "[0, 2, 4, 6, 8, 10, 12, 14, 16, 18, 20, 22, 24]\n",
      "[1, 3, 5, 7, 9, 11, 13, 15, 17, 19, 21, 23, 25]\n"
     ]
    }
   ],
   "source": [
    "def find_even_numbers (n):\n",
    "    even = []\n",
    "    for i in range(n + 1):\n",
    "        if i % 2 == 0:\n",
    "            even.append(i)\n",
    "    return even\n",
    "    \n",
    "print(find_even_numbers(25))\n",
    "# FINDING OOD NUMBERS\n",
    "\n",
    "def  find_odd_numbers(n):\n",
    "    odd = []\n",
    "    for x in range(n + 1):\n",
    "        if x % 2 !=0:\n",
    "            odd.append(x)\n",
    "    return odd\n",
    "    \n",
    "print(find_odd_numbers(25))"
   ]
  },
  {
   "cell_type": "markdown",
   "metadata": {},
   "source": [
    "### Function with Default Parameters\n",
    "\n",
    "function with default parameters work in such a way that if the argument is not provided it will return the assigned value \n",
    "\n",
    "**For Examples**\n",
    "```py\n",
    "def default(name = \" Ilyasu Abdulraman\"):\n",
    "    return name\n",
    "\n",
    "print(name())\n",
    "\n",
    "# or \n",
    "\n",
    "print(name(\"Suleiman Yehuza\"))\n",
    "```\n",
    "\n",
    "The Above Examples when you provide the parameter it will return the value *Suleiamn Yehuza* provided but NO parameter was provided it will return the assigned value *Ilyasu Abdulrahman*"
   ]
  },
  {
   "cell_type": "code",
   "execution_count": 141,
   "metadata": {},
   "outputs": [
    {
     "name": "stdout",
     "output_type": "stream",
     "text": [
      " Ilyasu Abdulraman\n",
      "Suleiman Yehuza\n",
      "Anifowose Welcome To 30days of python programing Nice to have you \n",
      "Abdulmuqsit Welcome To 30days of python programing Nice to have you \n",
      "245.00000000000003N\n",
      "250N\n",
      "26\n",
      "27\n"
     ]
    }
   ],
   "source": [
    "def default(name = \" Ilyasu Abdulraman\"):\n",
    "    return name\n",
    "\n",
    "print(default())\n",
    "# or \n",
    "\n",
    "print(default(\"Suleiman Yehuza\"))\n",
    "\n",
    "#MORE EXAMPLES\n",
    "\n",
    "def full_name(last_name = \"Abdulmuqsit\"):\n",
    "    message =  last_name +  \" \" + \"Welcome To 30days of python programing Nice to have you \"\n",
    "    return message\n",
    "print(full_name(\"Anifowose\"))\n",
    "print(full_name())\n",
    "    \n",
    "    \n",
    "#USING DEFAULT VALUE TO CALCULATE WEIGHT\n",
    "def weight_of_object(mass, gravity= 9.8):\n",
    "    weight = (mass * gravity)\n",
    "    return weight\n",
    "print(f\"{weight_of_object(25)}N\")\n",
    "print(f\"{weight_of_object(25, 10)}N\")\n",
    "\n",
    "#USING DEFAULT VALUE TO CALCULATE AGE\n",
    "def the_age(birth_year, curent_year = 2024):\n",
    "    age =  curent_year - birth_year\n",
    "    return age\n",
    "print(the_age(1998))\n",
    "print(the_age(1998, 2025))\n"
   ]
  },
  {
   "cell_type": "markdown",
   "metadata": {},
   "source": [
    "### Arbitrary Number of Arguments\n",
    "\n",
    "If we do not know the number of arguments we pass to our function, we can create a function which can take arbitrary number of arguments by adding \\* before the parameter name.\n",
    "\n",
    "**For examples**\n",
    "```py\n",
    "def function_name(*args):\n",
    "    print(args)\n",
    "\n",
    "function_name(\"Ilyasu Abdulrahman\")\n",
    "```"
   ]
  },
  {
   "cell_type": "code",
   "execution_count": 154,
   "metadata": {},
   "outputs": [
    {
     "name": "stdout",
     "output_type": "stream",
     "text": [
      "('Ilyasu', 'Suleiman')\n",
      "35\n",
      "26\n"
     ]
    }
   ],
   "source": [
    "def function_name(*args):\n",
    "    return args\n",
    "\n",
    "print(function_name('Ilyasu', 'Suleiman'))\n",
    "\n",
    "def sum_of_some_numbers(*nums):\n",
    "    total = 0\n",
    "    for num in nums:\n",
    "        total += num\n",
    "    return total\n",
    "print(sum_of_some_numbers(4,6,7,8,10))\n",
    "\n",
    "# THE MIN OF SOME NUMBERS\n",
    "def min_numb(*numbs):\n",
    "    min_numb = min(numbs)\n",
    "    return min_numb\n",
    "print(min_numb(40,26,27,26,50,68,50))"
   ]
  }
 ],
 "metadata": {
  "kernelspec": {
   "display_name": "Arewa-work-space",
   "language": "python",
   "name": "python3"
  },
  "language_info": {
   "codemirror_mode": {
    "name": "ipython",
    "version": 3
   },
   "file_extension": ".py",
   "mimetype": "text/x-python",
   "name": "python",
   "nbconvert_exporter": "python",
   "pygments_lexer": "ipython3",
   "version": "3.12.7"
  }
 },
 "nbformat": 4,
 "nbformat_minor": 2
}
