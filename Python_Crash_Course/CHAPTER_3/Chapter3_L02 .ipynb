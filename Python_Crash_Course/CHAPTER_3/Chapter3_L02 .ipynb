{
 "cells": [
  {
   "cell_type": "markdown",
   "metadata": {},
   "source": [
    "### **MODIFYING ADDING AND REMOVING ELEMENT FROM THE LIST**\n",
    "\n",
    "Most lists you create will be dynamic, meaning you’ll build a list and then \n",
    "add and remove elements from it as your program runs its course. **FOR EXAMPLES**\n",
    "\n",
    "You can make shooping list for all your family memebers, then anybody from the family can come back to say \"heyy  wanted to ammend the list i.e i want to remove biscuits and add chocolate."
   ]
  },
  {
   "cell_type": "markdown",
   "metadata": {},
   "source": [
    "#### **Modifying Elements in a List**\n",
    "\n",
    "The syntax for modifying an element is similar to the syntax for accessing \n",
    "an element in a list. To change an element, use the name of the list followed \n",
    "by the index of the element you want to change, and then provide the new \n",
    "value you want that item to have.\n",
    "\n",
    " **FOR EXAMPLE:** Let Create a shooping list then modified the name\n"
   ]
  },
  {
   "cell_type": "code",
   "execution_count": 4,
   "metadata": {},
   "outputs": [
    {
     "name": "stdout",
     "output_type": "stream",
     "text": [
      "The old list Contains:\n",
      "Chocolate\n",
      "Cowbell\n",
      "milk\n",
      "_________________________\n",
      "The new List Contains:\n",
      "Bag of rice\n",
      "Shoes and bags\n",
      "Suya\n"
     ]
    }
   ],
   "source": [
    "# SHOOPING LIST\n",
    "shooping_list = [\"Chocolate\", \"Cowbell\", \"milk\", \"bread,\"]\n",
    "print(\"The old list Contains:\", shooping_list[0], shooping_list[1], shooping_list[2], sep=\"\\n\")\n",
    "print(\"_________________________\")\n",
    "\n",
    "shooping_list[0] = \"Bag of rice\"\n",
    "shooping_list[1] = \"Shoes and bags\"\n",
    "shooping_list[2] = \"Suya\"\n",
    "print(\"The new List Contains:\", shooping_list[0], shooping_list[1], shooping_list[2], sep=\"\\n\")"
   ]
  },
  {
   "cell_type": "markdown",
   "metadata": {},
   "source": [
    "#### **Adding Elements to the list**\n",
    "\n",
    "You might want to add a new element to a list for many reasons. For \n",
    "example, You might want to the list of shooping or you have attendance of some studnets and you want to add more names. python provide a better ways to add to existing data\n",
    "\n",
    "*Elements can be added to the list in the following ways:*"
   ]
  },
  {
   "cell_type": "markdown",
   "metadata": {},
   "source": [
    "###### 1. **APPENDING ELEMENTS TO THE END OF A LIST**\n",
    "\n",
    "The simplest way to add a new element to a list is to append the item to the \n",
    "list. When you append an item to a list, the new element is added to the end \n",
    "of the list. Using the same list we had in the previous example, we’ll add the \n",
    "new element 'Table water and School bags' to the end of the list:"
   ]
  },
  {
   "cell_type": "code",
   "execution_count": 4,
   "metadata": {},
   "outputs": [
    {
     "name": "stdout",
     "output_type": "stream",
     "text": [
      "The added new List Contains:\n",
      "Table water\n",
      "School bags\n",
      "Provision\n",
      "Xhemistry Text Book\n",
      "Reading light\n",
      "['Ronney']\n"
     ]
    }
   ],
   "source": [
    "shooping_list = []\n",
    "shooping_list.append(\"Table water\")\n",
    "shooping_list.append(\"School bags\")\n",
    "shooping_list.append(\"Provision\")\n",
    "shooping_list.append(\"Xhemistry Text Book\")\n",
    "shooping_list.append(\"Reading light\")\n",
    "print(\"The added new List Contains:\", shooping_list[0], shooping_list[1], shooping_list[2],shooping_list[3], shooping_list[4], sep=\"\\n\")\n",
    "fav_player = []\n",
    "fav_player.append(\"Ronney\")\n",
    "print(fav_player)\n"
   ]
  },
  {
   "cell_type": "markdown",
   "metadata": {},
   "source": [
    "##### 2. Inserting elements into a list\n",
    "\n",
    "You can add a new element at any position in your list by using the insert()\n",
    "method. You do this by specifying the index of the new element and the \n",
    "value of the new item: \n",
    "for examples"
   ]
  },
  {
   "cell_type": "code",
   "execution_count": 17,
   "metadata": {},
   "outputs": [
    {
     "name": "stdout",
     "output_type": "stream",
     "text": [
      "['Nothing', 'fish pie', 'Eggs', 'fish pie', 'Orange', 'Eggs', 'fish pie', 'Orange', 'Nothing', 'fish pie', 'Orange', 'Nothing', 'fish pie', 'Orange', 'Nothing', 'Tea', 'Orange', 'Nothing', 'Tea', 'Orange', 'Nothing', 'Tea', 'Orange', 'Nothing', 'Tea and Bread', 'Orange', 'Bag of rice', 'Tea and Bread', 'Orange', 'Tea and Bread', 'Shoes and bags', 'Suya', 'bread,', 'Table water', 'School bags']\n",
      "____________________________________________\n",
      "['Nothing', 'fish pie', 'Eggs', 'fish pie', 'Orange', 'Eggs', 'fish pie', 'Orange', 'Eggs', 'fish pie', 'Orange', 'Nothing', 'fish pie', 'Orange', 'Nothing', 'fish pie', 'Orange', 'Nothing', 'Tea', 'Orange', 'Nothing', 'Tea', 'Orange', 'Nothing', 'Tea', 'Orange', 'Nothing', 'Tea and Bread', 'Orange', 'Bag of rice', 'Tea and Bread', 'Orange', 'Tea and Bread', 'Shoes and bags', 'Suya', 'bread,', 'Table water', 'School bags']\n"
     ]
    }
   ],
   "source": [
    "print(shooping_list)\n",
    "print(\"____________________________________________\")\n",
    "\n",
    "shooping_list.insert(2,\"Orange\")\n",
    "shooping_list.insert(0, \"Nothing\")\n",
    "shooping_list.insert(1, \"fish pie\")\n",
    "shooping_list[2] = \"Eggs\"\n",
    "\n",
    "print(shooping_list)\n",
    "\n",
    "#This operation shifts every other value in the list one position to the \n",
    "#right"
   ]
  },
  {
   "cell_type": "markdown",
   "metadata": {},
   "source": [
    "### REMOVING THE ELEMENT FROM THE LIST\n",
    "\n",
    "Often, you’ll want to remove an item or a set of items from a list. For example, you might wanted to remove item from the shooping list, from list of your friends"
   ]
  },
  {
   "cell_type": "markdown",
   "metadata": {},
   "source": [
    "##### 1. Removing item using _del_\n",
    "If you know the position of the item you want to remove from a list, you can \n",
    "use the del statement: for example\n"
   ]
  },
  {
   "cell_type": "code",
   "execution_count": 15,
   "metadata": {},
   "outputs": [
    {
     "name": "stdout",
     "output_type": "stream",
     "text": [
      "['rice', 'beans', 'meat', 'fish']\n",
      "['beans', 'meat']\n"
     ]
    }
   ],
   "source": [
    "#Removing elements from the list\n",
    "fav_food = [\"rice\", \"beans\", \"meat\", \"fish\"]\n",
    "print(fav_food)\n",
    "del fav_food[0]\n",
    "del fav_food[2]\n",
    "print(fav_food)\n"
   ]
  },
  {
   "cell_type": "markdown",
   "metadata": {},
   "source": [
    "#### 2. Removing an item using pop() methods\n",
    "Sometimes you’ll want to use the value of an item after you remove it from a \n",
    "list. For example: In a web \n",
    "application, you might want to remove a user from a list of active members \n",
    "and then add that user to a list of inactive members \n",
    "code examples are as follows:"
   ]
  },
  {
   "cell_type": "code",
   "execution_count": 30,
   "metadata": {},
   "outputs": [
    {
     "name": "stdout",
     "output_type": "stream",
     "text": [
      "['ilyasu', 'suleiman', 'mufidat', 'Abas']\n",
      "The Active members are:\n",
      "['ilyasu', 'suleiman', 'mufidat']\n",
      "The inactive member are:\n",
      "Abas\n",
      "['Benz', 'honda', 'ducati', 'BMW']\n",
      "My last car i owned was a: BMW\n",
      "['Benz', 'honda', 'ducati', 'BMW']\n",
      "My first car i owned was a: BENZ\n"
     ]
    }
   ],
   "source": [
    "active_mem = [\"ilyasu\", \"suleiman\", \"mufidat\", \"Abas\"]\n",
    "print(active_mem)\n",
    "\n",
    "inactive_mem = active_mem.pop()\n",
    "print(\"The Active members are:\", active_mem, sep=\"\\n\")\n",
    "print(\"The inactive member are:\", inactive_mem, sep=\"\\n\")\n",
    "\n",
    "#APPLICATION OF POP()\n",
    "#How might this pop() method be useful? Imagine that the motorcycles \n",
    "#in the list are stored in chronological order, according to when we owned \n",
    "#them. If this is the case, we can use the pop() method to print a statement \n",
    "#about the last motorcycle we bought\n",
    "\n",
    "my_cars = ['Benz', 'honda', 'ducati', \"BMW\"]\n",
    "print(my_cars)\n",
    "last_owned = my_cars.pop()\n",
    "print(f'My last car i owned was a: {last_owned.upper()}')\n",
    "\n",
    "#opping Items from Any Position in a List\n",
    "my_cars = ['Benz', 'honda', 'ducati', \"BMW\"]\n",
    "print(my_cars)\n",
    "First_owned = my_cars.pop(0)\n",
    "print(f'My first car i owned was a: {First_owned.upper()}')"
   ]
  },
  {
   "cell_type": "markdown",
   "metadata": {},
   "source": [
    "##### Removing an Item by Value\n",
    "Sometimes you won’t know the position of the value you want to remove \n",
    "from a list. If you only know the value of the item you want to remove, you \n",
    "can use the remove() method for examples\n",
    "\n"
   ]
  },
  {
   "cell_type": "code",
   "execution_count": 41,
   "metadata": {},
   "outputs": [
    {
     "name": "stdout",
     "output_type": "stream",
     "text": [
      "['Benz', 'honda', 'ducati', 'BMW']\n",
      "\n",
      "A Benz is Too expemsive\n"
     ]
    }
   ],
   "source": [
    "my_cars = ['Benz', 'honda', 'ducati', \"BMW\"]\n",
    "print(my_cars)\n",
    "\n",
    "too_expensive= ('Benz')\n",
    "my_cars.remove(too_expensive)\n",
    "print(f\"\\nA {too_expensive} is Too expemsive\")"
   ]
  },
  {
   "cell_type": "markdown",
   "metadata": {},
   "source": [
    "## TRY IT YOUR SELF\n",
    "\n",
    "**3-4.** Guest List: If you could invite anyone, living or deceased, to dinner, who \n",
    "would you invite? Make a list that includes at least three people you’d like to \n",
    "invite to dinner. Then use your list to print a message to each person, inviting \n",
    "them to dinner.\n",
    "\n",
    "**3-5.** Changing Guest List: You just heard that one of your guests can’t make the \n",
    "dinner, so you need to send out a new set of invitations. You’ll have to think of \n",
    "someone else to invite.\n",
    "• Start with your program from Exercise 3-4. Add a print() call at the end of \n",
    "your program, stating the name of the guest who can’t make it.\n",
    "• Modify your list, replacing the name of the guest who can’t make it with the \n",
    "name of the new person you are inviting.\n",
    "• Print a second set of invitation messages, one for each person who is still in \n",
    "your list.\n",
    "\n",
    "**3-6.** More Guests: You just found a bigger dinner table, so now more space is \n",
    "available. Think of three more guests to invite to dinner.\n",
    "• Start with your program from Exercise 3-4 or **3-5.** Add a print() call to the \n",
    "end of your program, informing people that you found a bigger table.\n",
    "• Use insert() to add one new guest to the beginning of your list.\n",
    "• Use insert() to add one new guest to the middle of your list.\n",
    "• Use append() to add one new guest to the end of your list.\n",
    "• Print a new set of invitation messages, one for each person in your list.\n",
    "\n",
    "**3-7.** Shrinking Guest List: You just found out that your new dinner table won’t \n",
    "arrive in time for the dinner, and now you have space for only two guests.\n",
    "• Start with your program from Exercise 3-6. Add a new line that prints a \n",
    "message saying that you can invite only two people for dinner.\n",
    "• Use pop() to remove guests from your list one at a time until only two \n",
    "names remain in your list. Each time you pop a name from your list, print a \n",
    "message to that person letting them know you’re sorry you can’t invite them \n",
    "to dinner.\n",
    "• Print a message to each of the two people still on your list, letting them \n",
    "know they’re still invited.\n",
    "• Use del to remove the last two names from your list, so you have an empty \n",
    "list. Print your list to make sure you actually have an empty list at the end of \n",
    "your program"
   ]
  },
  {
   "cell_type": "code",
   "execution_count": 1,
   "metadata": {},
   "outputs": [
    {
     "name": "stdout",
     "output_type": "stream",
     "text": [
      "Mufidat Your are invited to Dinner\n",
      "Idris Your are invited to Dinner\n",
      "Abdulkereem Your are invited to Dinner\n",
      "Abdullahi ilayi Your are invited to Dinner\n",
      "messna Your are invited to Dinner\n"
     ]
    }
   ],
   "source": [
    "#Guest List: If you could invite anyone, living or deceased, to dinner, who \n",
    "#would you invite? Make a list that includes at least three people you’d like to \n",
    "#invite to dinner. Then use your list to print a message to each person, inviting \n",
    "#them to dinner.\n",
    "\n",
    "#SOLUTION \n",
    "guest = [\"Mufidat\", \"Idris\", \"Abdulkereem\", \"Abdullahi ilayi\", \"messna\"]\n",
    "print(f'{guest[0]} Your are invited to Dinner')\n",
    "print(f'{guest[1]} Your are invited to Dinner')\n",
    "print(f'{guest[2]} Your are invited to Dinner')\n",
    "print(f'{guest[3]} Your are invited to Dinner')\n",
    "print(f'{guest[4]} Your are invited to Dinner')"
   ]
  },
  {
   "cell_type": "code",
   "execution_count": 13,
   "metadata": {},
   "outputs": [
    {
     "name": "stdout",
     "output_type": "stream",
     "text": [
      "ABDULLAHI ILAYI: Cannot make it to the Dinner Tonight\n",
      "MUFIDAT: Would make it\n",
      "IDRIS: Would make it\n",
      "ABDULKEREEM: Would make it\n",
      "MESSNA: Would make it\n",
      "_____________________________________\n",
      "MUFIDAT: You are Invited\n",
      "IDRIS: You are Invited\n",
      "ABDULKEREEM: You are Invited\n",
      "AKOGWU T YUSUF: You are Invited\n",
      "MESSNA: You are Invited\n"
     ]
    }
   ],
   "source": [
    "#Changing Guest List: You just heard that one of your guests can’t make the \n",
    "#dinner, so you need to send out a new set of invitations. You’ll have to think of \n",
    "#someone else to invite.\n",
    "#• Start with your program from Exercise 3-4. Add a print() call at the end of \n",
    "#your program, stating the name of the guest who can’t make it.\n",
    "\n",
    "guest = [\"Mufidat\", \"Idris\", \"Abdulkereem\", \"Abdullahi ilayi\", \"messna\"]\n",
    "cant_make_it = guest.pop(3)\n",
    "print(f'{cant_make_it.upper()}: Cannot make it to the Dinner Tonight')\n",
    "print(f'{guest[0].upper()}: Would make it')\n",
    "print(f'{guest[1].upper()}: Would make it')\n",
    "print(f'{guest[2].upper()}: Would make it')\n",
    "print(f'{guest[3].upper()}: Would make it')\n",
    "print(\"_____________________________________\")\n",
    "\n",
    "#MODIFY THE LIST\n",
    "guest.insert(3, \"Akogwu T Yusuf\")\n",
    "print(f'{guest[0].upper()}: You are Invited')\n",
    "print(f'{guest[1].upper()}: You are Invited')\n",
    "print(f'{guest[2].upper()}: You are Invited')\n",
    "print(f'{guest[3].upper()}: You are Invited')\n",
    "print(f'{guest[4].upper()}: You are Invited')"
   ]
  },
  {
   "cell_type": "code",
   "execution_count": 22,
   "metadata": {},
   "outputs": [
    {
     "name": "stdout",
     "output_type": "stream",
     "text": [
      "Dear Mufidat I have found a big table for the Dinner\n",
      "Dear Idris I have found a big table for the Dinner\n",
      "Dear Abdulkereem I have found a big table for the Dinner\n",
      "Dear Abdullahi Ilayi I have found a big table for the Dinner\n",
      "Dear Messna I have found a big table for the Dinner\n",
      "Dear Amira I have found a big table for the Dinner\n",
      "Dear Mike I have found a big table for the Dinner\n",
      "______________________________________________\n",
      "Dear Friend Suleiman yehuza Honour our Dinner Invitation\n",
      "Dear Friend Mufidat Honour our Dinner Invitation\n",
      "Dear Friend Idris Honour our Dinner Invitation\n",
      "Dear Friend Abdulkereem Honour our Dinner Invitation\n",
      "Dear Friend Muhammed salman Honour our Dinner Invitation\n",
      "Dear Friend Abdullahi ilayi Honour our Dinner Invitation\n",
      "Dear Friend Messna Honour our Dinner Invitation\n",
      "Dear Friend Amira Honour our Dinner Invitation\n",
      "Dear Friend Mike Honour our Dinner Invitation\n",
      "Dear Friend Yahaya Honour our Dinner Invitation\n"
     ]
    }
   ],
   "source": [
    "#3-6. More Guests: You just found a bigger dinner table, so now more space is \n",
    "#available. Think of three more guests to invite to dinner\n",
    "more_guest = [\"Mufidat\", \"Idris\", \"Abdulkereem\", \"Abdullahi ilayi\", \"messna\", \"Amira\", \"Mike\"]\n",
    "\n",
    "\n",
    "#Start with your program from Exercise 3-4 or 3-5. Add a print() call to the \n",
    "#end of your program, informing people that you found a bigger table.\n",
    "print(f'Dear {more_guest[0].title()} I have found a big table for the Dinner')\n",
    "print(f'Dear {more_guest[1].title()} I have found a big table for the Dinner')\n",
    "print(f'Dear {more_guest[2].title()} I have found a big table for the Dinner')\n",
    "print(f'Dear {more_guest[3].title()} I have found a big table for the Dinner')\n",
    "print(f'Dear {more_guest[4].title()} I have found a big table for the Dinner')\n",
    "print(f'Dear {more_guest[5].title()} I have found a big table for the Dinner')\n",
    "print(f'Dear {more_guest[6].title()} I have found a big table for the Dinner')\n",
    "print(\"______________________________________________\")\n",
    "\n",
    "#Use insert() to add one new guest to the beginning of your list\n",
    "more_guest.insert(0, \"suleiman yehuza\")\n",
    "\n",
    "#Use insert() to add one new guest to the middle of your list\n",
    "more_guest.insert(4, \"muhammed salman\")\n",
    "\n",
    "#Use append() to add one new guest to the end of your list.\n",
    "more_guest.append(\"yahaya\")\n",
    "\n",
    "#Print a new set of invitation messages, one for each person in your lis\n",
    "print(f'Dear Friend {more_guest[0].capitalize()} Honour our Dinner Invitation')\n",
    "print(f'Dear Friend {more_guest[1].capitalize()} Honour our Dinner Invitation')\n",
    "print(f'Dear Friend {more_guest[2].capitalize()} Honour our Dinner Invitation')\n",
    "print(f'Dear Friend {more_guest[3].capitalize()} Honour our Dinner Invitation')\n",
    "print(f'Dear Friend {more_guest[4].capitalize()} Honour our Dinner Invitation')\n",
    "print(f'Dear Friend {more_guest[5].capitalize()} Honour our Dinner Invitation')\n",
    "print(f'Dear Friend {more_guest[6].capitalize()} Honour our Dinner Invitation')\n",
    "print(f'Dear Friend {more_guest[7].capitalize()} Honour our Dinner Invitation')\n",
    "print(f'Dear Friend {more_guest[8].capitalize()} Honour our Dinner Invitation')\n",
    "print(f'Dear Friend {more_guest[9].capitalize()} Honour our Dinner Invitation')"
   ]
  },
  {
   "cell_type": "code",
   "execution_count": 39,
   "metadata": {},
   "outputs": [
    {
     "name": "stdout",
     "output_type": "stream",
     "text": [
      "Dear Mufidat Only two people can be invited\n",
      "Dear Idris Only two people can be invited\n",
      "Dear Abdulkereem Only two people can be invited\n",
      "Dear muhammed salman Only two people can be invited\n",
      "Dear Abdullahi ilayi Only two people can be invited\n",
      "Dear messna Only two people can be invited\n",
      "Dear Amira Only two people can be invited\n",
      "Dear Mike Only two people can be invited\n",
      "Dear yahaya Only two people can be invited\n",
      "_________________________________________________\n"
     ]
    }
   ],
   "source": [
    "#3-7. Shrinking Guest List: You just found out that your new dinner table won’t \n",
    "#arrive in time for the dinner, and now you have space for only two guests.\n",
    "\n",
    "print( \"Dear\", more_guest[0], \"Only two people can be invited\")\n",
    "print( \"Dear\", more_guest[1], \"Only two people can be invited\")\n",
    "print( \"Dear\", more_guest[2], \"Only two people can be invited\")\n",
    "print( \"Dear\", more_guest[3], \"Only two people can be invited\")\n",
    "print( \"Dear\", more_guest[4], \"Only two people can be invited\")\n",
    "print( \"Dear\", more_guest[5], \"Only two people can be invited\")\n",
    "print( \"Dear\", more_guest[6], \"Only two people can be invited\")\n",
    "print( \"Dear\", more_guest[7], \"Only two people can be invited\")\n",
    "print( \"Dear\", more_guest[8], \"Only two people can be invited\")\n",
    "#print( \"Dear\", more_guest[9], \"sorr i can only invite two people\")\n",
    "print(\"_________________________________________________\")"
   ]
  },
  {
   "cell_type": "code",
   "execution_count": 57,
   "metadata": {},
   "outputs": [
    {
     "name": "stdout",
     "output_type": "stream",
     "text": [
      "SULEIMAN YEHUZA sorry i can't invite you to the dinner\n",
      "IDRIS sorry i can't invite you to the dinner\n",
      "MUHAMMED SALMAN sorry i can't invite you to the dinner\n",
      "MESSNA sorry i can't invite you to the dinner\n",
      "MIKE sorry i can't invite you to the dinner\n",
      "YAHAYA sorry i can't invite you to the dinner\n",
      "MUFIDAT sorry i can't invite you to the dinner\n",
      "ABDULLAHI ILAYI sorry i can't invite you to the dinner\n",
      "________________________________________________\n",
      "My dear friend Abdulkereem you are cardily invited to the diiner\n",
      "My dear friend Amira you are cardily invited to the diiner\n",
      "_______________________________________________\n",
      "[]\n"
     ]
    }
   ],
   "source": [
    "#Use pop() to remove guests from your list one at a time until only two \n",
    "#names remain in your list. Each time you pop a name from your list, print a \n",
    "#message to that person letting them know you’re sorry you can’t invite them \n",
    "#to dinner\n",
    "more_guest = [\"Mufidat\", \"Idris\", \"Abdulkereem\", \"Abdullahi ilayi\", \"messna\", \"Amira\", \"Mike\"]\n",
    "more_guest.insert(0, \"suleiman yehuza\")\n",
    "more_guest.insert(4, \"muhammed salman\")\n",
    "more_guest.append(\"yahaya\")\n",
    "print(f\"{more_guest.pop(0).upper()} sorry i can't invite you to the dinner\")\n",
    "print(f\"{more_guest.pop(1).upper()} sorry i can't invite you to the dinner\")\n",
    "print(f\"{more_guest.pop(2).upper()} sorry i can't invite you to the dinner\")\n",
    "print(f\"{more_guest.pop(3).upper()} sorry i can't invite you to the dinner\")\n",
    "print(f\"{more_guest.pop(4).upper()} sorry i can't invite you to the dinner\")\n",
    "print(f\"{more_guest.pop(4).upper()} sorry i can't invite you to the dinner\")\n",
    "print(f\"{more_guest.pop(0).upper()} sorry i can't invite you to the dinner\")\n",
    "print(f\"{more_guest.pop(1).upper()} sorry i can't invite you to the dinner\")\n",
    "print(\"________________________________________________\")\n",
    "\n",
    "#Print a message to each of the two people still on your list, letting them \n",
    "#know they’re still invited.\n",
    "print(f'My dear friend {more_guest[0]} you are cardily invited to the diiner')\n",
    "print(f'My dear friend {more_guest[1]} you are cardily invited to the diiner')\n",
    "print(\"_______________________________________________\")\n",
    "\n",
    "#Use del to remove the last two names from your list, so you have an empty \n",
    "#list. Print your list to make sure you actually have an empty list at the end of \n",
    "#your program\n",
    "del more_guest[0]\n",
    "del more_guest[0]\n",
    "\n",
    "print(more_guest)"
   ]
  }
 ],
 "metadata": {
  "kernelspec": {
   "display_name": "Arewa-work-space",
   "language": "python",
   "name": "python3"
  },
  "language_info": {
   "codemirror_mode": {
    "name": "ipython",
    "version": 3
   },
   "file_extension": ".py",
   "mimetype": "text/x-python",
   "name": "python",
   "nbconvert_exporter": "python",
   "pygments_lexer": "ipython3",
   "version": "3.12.7"
  }
 },
 "nbformat": 4,
 "nbformat_minor": 2
}
