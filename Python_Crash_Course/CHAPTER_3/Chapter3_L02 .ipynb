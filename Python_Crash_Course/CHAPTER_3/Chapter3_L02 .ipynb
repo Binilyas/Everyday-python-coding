{
 "cells": [
  {
   "cell_type": "markdown",
   "metadata": {},
   "source": [
    "### **MODIFYING ADDING AND REMOVING ELEMENT FROM THE LIST**\n",
    "\n",
    "Most lists you create will be dynamic, meaning you’ll build a list and then \n",
    "add and remove elements from it as your program runs its course. **FOR EXAMPLES**\n",
    "\n",
    "You can make shooping list for all your family memebers, then anybody from the family can come back to say \"heyy  wanted to ammend the list i.e i want to remove biscuits and add chocolate."
   ]
  },
  {
   "cell_type": "markdown",
   "metadata": {},
   "source": [
    "#### **Modifying Elements in a List**\n",
    "\n",
    "The syntax for modifying an element is similar to the syntax for accessing \n",
    "an element in a list. To change an element, use the name of the list followed \n",
    "by the index of the element you want to change, and then provide the new \n",
    "value you want that item to have.\n",
    "\n",
    " **FOR EXAMPLE:** Let Create a shooping list then modified the name\n"
   ]
  },
  {
   "cell_type": "code",
   "execution_count": 4,
   "metadata": {},
   "outputs": [
    {
     "name": "stdout",
     "output_type": "stream",
     "text": [
      "The old list Contains:\n",
      "Chocolate\n",
      "Cowbell\n",
      "milk\n",
      "_________________________\n",
      "The new List Contains:\n",
      "Bag of rice\n",
      "Shoes and bags\n",
      "Suya\n"
     ]
    }
   ],
   "source": [
    "# SHOOPING LIST\n",
    "shooping_list = [\"Chocolate\", \"Cowbell\", \"milk\", \"bread,\"]\n",
    "print(\"The old list Contains:\", shooping_list[0], shooping_list[1], shooping_list[2], sep=\"\\n\")\n",
    "print(\"_________________________\")\n",
    "\n",
    "shooping_list[0] = \"Bag of rice\"\n",
    "shooping_list[1] = \"Shoes and bags\"\n",
    "shooping_list[2] = \"Suya\"\n",
    "print(\"The new List Contains:\", shooping_list[0], shooping_list[1], shooping_list[2], sep=\"\\n\")"
   ]
  },
  {
   "cell_type": "markdown",
   "metadata": {},
   "source": [
    "#### **Adding Elements to the list**\n",
    "\n",
    "You might want to add a new element to a list for many reasons. For \n",
    "example, You might want to the list of shooping or you have attendance of some studnets and you want to add more names. python provide a better ways to add to existing data\n",
    "\n",
    "*Elements can be added to the list in the following ways:*"
   ]
  },
  {
   "cell_type": "markdown",
   "metadata": {},
   "source": [
    "###### 1. **APPENDING ELEMENTS TO THE END OF A LIST**\n",
    "\n",
    "The simplest way to add a new element to a list is to append the item to the \n",
    "list. When you append an item to a list, the new element is added to the end \n",
    "of the list. Using the same list we had in the previous example, we’ll add the \n",
    "new element 'Table water and School bags' to the end of the list:"
   ]
  },
  {
   "cell_type": "code",
   "execution_count": 5,
   "metadata": {},
   "outputs": [
    {
     "name": "stdout",
     "output_type": "stream",
     "text": [
      "The added new List Contains:\n",
      "Bag of rice\n",
      "Shoes and bags\n",
      "Suya\n",
      "bread,\n",
      "Table water\n"
     ]
    }
   ],
   "source": [
    "shooping_list.append(\"Table water\")\n",
    "shooping_list.append(\"School bags\")\n",
    "print(\"The added new List Contains:\", shooping_list[0], shooping_list[1], shooping_list[2],shooping_list[3], shooping_list[4], sep=\"\\n\")\n"
   ]
  },
  {
   "cell_type": "markdown",
   "metadata": {},
   "source": [
    "##### 2. Inserting elements into a list\n",
    "\n",
    "You can add a new element at any position in your list by using the insert()\n",
    "method. You do this by specifying the index of the new element and the \n",
    "value of the new item: \n",
    "for examples"
   ]
  },
  {
   "cell_type": "code",
   "execution_count": 17,
   "metadata": {},
   "outputs": [
    {
     "name": "stdout",
     "output_type": "stream",
     "text": [
      "['Nothing', 'fish pie', 'Eggs', 'fish pie', 'Orange', 'Eggs', 'fish pie', 'Orange', 'Nothing', 'fish pie', 'Orange', 'Nothing', 'fish pie', 'Orange', 'Nothing', 'Tea', 'Orange', 'Nothing', 'Tea', 'Orange', 'Nothing', 'Tea', 'Orange', 'Nothing', 'Tea and Bread', 'Orange', 'Bag of rice', 'Tea and Bread', 'Orange', 'Tea and Bread', 'Shoes and bags', 'Suya', 'bread,', 'Table water', 'School bags']\n",
      "____________________________________________\n",
      "['Nothing', 'fish pie', 'Eggs', 'fish pie', 'Orange', 'Eggs', 'fish pie', 'Orange', 'Eggs', 'fish pie', 'Orange', 'Nothing', 'fish pie', 'Orange', 'Nothing', 'fish pie', 'Orange', 'Nothing', 'Tea', 'Orange', 'Nothing', 'Tea', 'Orange', 'Nothing', 'Tea', 'Orange', 'Nothing', 'Tea and Bread', 'Orange', 'Bag of rice', 'Tea and Bread', 'Orange', 'Tea and Bread', 'Shoes and bags', 'Suya', 'bread,', 'Table water', 'School bags']\n"
     ]
    }
   ],
   "source": [
    "print(shooping_list)\n",
    "print(\"____________________________________________\")\n",
    "\n",
    "shooping_list.insert(2,\"Orange\")\n",
    "shooping_list.insert(0, \"Nothing\")\n",
    "shooping_list.insert(1, \"fish pie\")\n",
    "shooping_list[2] = \"Eggs\"\n",
    "\n",
    "print(shooping_list)\n",
    "\n",
    "#This operation shifts every other value in the list one position to the \n",
    "#right"
   ]
  }
 ],
 "metadata": {
  "kernelspec": {
   "display_name": "Arewa-work-space",
   "language": "python",
   "name": "python3"
  },
  "language_info": {
   "codemirror_mode": {
    "name": "ipython",
    "version": 3
   },
   "file_extension": ".py",
   "mimetype": "text/x-python",
   "name": "python",
   "nbconvert_exporter": "python",
   "pygments_lexer": "ipython3",
   "version": "3.12.7"
  }
 },
 "nbformat": 4,
 "nbformat_minor": 2
}
