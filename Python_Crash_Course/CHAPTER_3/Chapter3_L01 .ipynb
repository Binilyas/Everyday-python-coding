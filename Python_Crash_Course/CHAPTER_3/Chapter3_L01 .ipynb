{
 "cells": [
  {
   "cell_type": "markdown",
   "metadata": {},
   "source": [
    "### **INTRODUCING LIST**\n",
    "\n",
    "**What is list ?**\n",
    "A list is the collection of item in the particular order.\n",
    "you can make a list of aliphabet, number, list of family members, list of friends etc \n",
    "\n",
    "you can actually stor anythings on the list \n",
    "\n",
    "\n",
    "In python square Baracket ([]) indicate a list each list is separeted with a comma Examples:"
   ]
  },
  {
   "cell_type": "code",
   "execution_count": 1,
   "metadata": {},
   "outputs": [
    {
     "name": "stdout",
     "output_type": "stream",
     "text": [
      "['Akogwu T. Yusuf', 'Abdulsalam Suleiman', 'muhammed Salman Rabiu', 'Adams Abdulrahman', 'Kashim Abdulkereem', 'ike Sunday titus', 'aisha yakub', 'salisu ameera', 'yakub munira', 'yakub munira adaava', 'yahaya abdulmumin', 'usman iliyasu']\n"
     ]
    }
   ],
   "source": [
    "#LIST IN PYTHON\n",
    "my_friends = [\"Akogwu T. Yusuf\", \"Abdulsalam Suleiman\", \"muhammed Salman Rabiu\", \"Adams Abdulrahman\", \"Kashim Abdulkereem\", \"ike Sunday titus\", \"aisha yakub\", \"salisu ameera\", \"yakub munira\", \"yakub munira adaava\", \"yahaya abdulmumin\",\"usman iliyasu\"]\n",
    "print(my_friends)\n",
    "\n",
    "#When you asked python to print list is going to print everythings including the square brackect"
   ]
  },
  {
   "cell_type": "markdown",
   "metadata": {},
   "source": [
    "#### **Accessing Elements in a List**\n",
    "\n",
    "list are oders collection, so you can acces any item using the index number of that particular number starting from zero (0). To access element in a list, write the name of the list followed by the index of the item \n",
    "enclosed in square brackets Examples are as follows:"
   ]
  },
  {
   "cell_type": "code",
   "execution_count": 2,
   "metadata": {},
   "outputs": [
    {
     "name": "stdout",
     "output_type": "stream",
     "text": [
      "my friends are:\n",
      "Akogwu T. Yusuf\n",
      "Abdulsalam Suleiman\n",
      "muhammed Salman Rabiu\n",
      "Adams Abdulrahman\n",
      "Kashim Abdulkereem\n",
      "ike Sunday titus\n",
      "aisha yakub\n",
      "___________________________\n",
      "Akogwu T. Yusuf\n",
      "Abdulsalam Suleiman\n",
      "muhammed Salman Rabiu\n",
      "Adams Abdulrahman\n",
      "Kashim Abdulkereem\n",
      "ike Sunday titus\n"
     ]
    }
   ],
   "source": [
    "#ACCESSING ELEMENT IN A LIST\n",
    "my_friends = [\"Akogwu T. Yusuf\", \"Abdulsalam Suleiman\", \"muhammed Salman Rabiu\", \"Adams Abdulrahman\", \"Kashim Abdulkereem\", \"ike Sunday titus\", \"aisha yakub\", \"salisu ameera\", \"yakub munira\", \"yakub munira adaava\", \"yahaya abdulmumin\",\"usman iliyasu\"]\n",
    "print(\"my friends are:\", my_friends[0], (my_friends[1]),(my_friends[2]),(my_friends[3]),(my_friends[4]), (my_friends[5]), (my_friends[6]), sep=\"\\n\")\n",
    "print(\"___________________________\")\n",
    "print(my_friends[0])\n",
    "print(my_friends[1])\n",
    "print(my_friends[2])\n",
    "print(my_friends[3])\n",
    "print(my_friends[4])\n",
    "print(my_friends[5])\n"
   ]
  },
  {
   "cell_type": "markdown",
   "metadata": {},
   "source": [
    "#### **Accessing item on the last of the list** \n",
    "\n",
    "Python has a special syntax for accessing the last element in a list. If you \n",
    "ask for the item at index -1, Python always returns the last item in the list:"
   ]
  },
  {
   "cell_type": "code",
   "execution_count": 3,
   "metadata": {},
   "outputs": [
    {
     "name": "stdout",
     "output_type": "stream",
     "text": [
      "usman iliyasu----------> Last item on the list \n",
      "yahaya abdulmumin----------> second to the last item on the list \n",
      "yakub munira adaava----------> Third to Last item on the list \n"
     ]
    }
   ],
   "source": [
    "print(my_friends[-1], \" \", sep=\"----------> Last item on the list\")\n",
    "print(my_friends[-2], \" \", sep=\"----------> second to the last item on the list\")\n",
    "print(my_friends[-3], \" \", sep=\"----------> Third to Last item on the list\")"
   ]
  },
  {
   "cell_type": "markdown",
   "metadata": {},
   "source": [
    "#### **Using individual Value from a list**\n",
    "\n",
    "You can use individual values from a list just as you would any other variable. For example, you can use f-strings to create a message based on a \n",
    "value from a list.\n",
    "Let’s try pulling the first my friends from the list and composing a message \n",
    "using that value"
   ]
  },
  {
   "cell_type": "code",
   "execution_count": 4,
   "metadata": {},
   "outputs": [
    {
     "name": "stdout",
     "output_type": "stream",
     "text": [
      "My first univeristy friend is USMAN ILIYASU\n",
      "_____________________________\n",
      "My friends also includes:Akogwu T. Yusuf\n"
     ]
    }
   ],
   "source": [
    "message = f'My first univeristy friend is {my_friends[-1].upper()}'\n",
    "print(message)\n",
    "print(\"_____________________________\")\n",
    "\n",
    "message_2 = f'My friends also includes:{my_friends[0]}'\n",
    "print(message_2)"
   ]
  },
  {
   "cell_type": "markdown",
   "metadata": {},
   "source": [
    "#### **EXERCISE _TRY IT YOUR SELF_**\n",
    "\n",
    "Try these short programs to get some firsthand experience with Python’s lists. \n",
    "\n",
    "1. 3-1. Names: Store the names of a few of your friends in a list called names. Print \n",
    "each person’s name by accessing each element in the list, one at a time.\n",
    "2. 3-2. Greetings: Start with the list you used in Exercise 3-1, but instead of just \n",
    "printing each person’s name, print a message to them. The text of each message should be the same, but each message should be personalized with the \n",
    "person’s name. \n",
    "3. 3-3. Your Own List: Think of your favorite mode of transportation, such as a \n",
    "motorcycle or a car, and make a list that stores several examples. Use your list \n",
    "to print a series of statements about these items, such as “I would like to own a \n",
    "Honda motorcycle.”"
   ]
  },
  {
   "cell_type": "markdown",
   "metadata": {},
   "source": [
    "1.  3-1. Names: Store the names of a few of your friends in a list called names. Print \n",
    "each person’s name by accessing each"
   ]
  },
  {
   "cell_type": "code",
   "execution_count": 5,
   "metadata": {},
   "outputs": [
    {
     "name": "stdout",
     "output_type": "stream",
     "text": [
      "SHUAIB MUFIDAT\n",
      "AKOGWU T. YUSUF\n",
      "IDRIS ISMAIL\n"
     ]
    }
   ],
   "source": [
    "sec_friends = [\"Shuaib Mufidat\", \"Akogwu T. Yusuf\", \"Idris Ismail\"]\n",
    "\n",
    "print(sec_friends[0].upper())\n",
    "print(sec_friends[1].upper())\n",
    "print(sec_friends[2].upper())"
   ]
  },
  {
   "cell_type": "markdown",
   "metadata": {},
   "source": [
    "2. 3-2. Greetings: Start with the list you used in Exercise 3-1, but instead of just \n",
    "printing each person’s name, print a message to them. The text of each message should be the same, but each message should be personalized with the \n",
    "person’s name. "
   ]
  },
  {
   "cell_type": "code",
   "execution_count": 6,
   "metadata": {},
   "outputs": [
    {
     "name": "stdout",
     "output_type": "stream",
     "text": [
      "Shuaib Mufidat: is my friend from primary school\n",
      "Akogwu T. Yusuf: is my friend from primary school\n",
      "Idris Ismail: is my friend from scondary school\n"
     ]
    }
   ],
   "source": [
    "print(f'{sec_friends[0]}:', \"is my friend from primary school\")\n",
    "print(f'{sec_friends[1]}:', \"is my friend from primary school\")\n",
    "print(f'{sec_friends[2]}:', \"is my friend from scondary school\")"
   ]
  },
  {
   "cell_type": "markdown",
   "metadata": {},
   "source": [
    "3-3. Your Own List: Think of your favorite mode of transportation, such as a \n",
    "motorcycle or a car, and make a list that stores several examples. Use your list \n",
    "to print a series of statements about these items, such as “I would like to own a \n",
    "Honda motorcycle.”"
   ]
  },
  {
   "cell_type": "code",
   "execution_count": 7,
   "metadata": {},
   "outputs": [
    {
     "name": "stdout",
     "output_type": "stream",
     "text": [
      "I will like to get Benz for my mother if there is life\n",
      "I will like to get BMW for my wife if there is life\n",
      "I will like to get Honda for my father if there is life\n"
     ]
    }
   ],
   "source": [
    "fav_car = [\"Benz\", \"BMW\", \"Honda\",]\n",
    "print(f'I will like to get {fav_car[0]} for my mother if there is life')\n",
    "print(f'I will like to get {fav_car[1]} for my wife if there is life')\n",
    "print(f'I will like to get {fav_car[2]} for my father if there is life')"
   ]
  }
 ],
 "metadata": {
  "kernelspec": {
   "display_name": "Arewa-work-space",
   "language": "python",
   "name": "python3"
  },
  "language_info": {
   "codemirror_mode": {
    "name": "ipython",
    "version": 3
   },
   "file_extension": ".py",
   "mimetype": "text/x-python",
   "name": "python",
   "nbconvert_exporter": "python",
   "pygments_lexer": "ipython3",
   "version": "3.12.7"
  }
 },
 "nbformat": 4,
 "nbformat_minor": 2
}
