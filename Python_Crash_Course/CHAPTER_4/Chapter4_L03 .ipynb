{
 "cells": [
  {
   "cell_type": "markdown",
   "metadata": {},
   "source": [
    "## EXERCISE LIST SLICE"
   ]
  },
  {
   "cell_type": "markdown",
   "metadata": {},
   "source": [
    "**4-10.** Slices: Using one of the programs you wrote in this chapter, add several \n",
    "lines to the end of the program that do the following:\n",
    "- Print the message The first three items in the list are:. Then use a slice to \n",
    "print the first three items from that program’s list.\n",
    "- Print the message Three items from the middle of the list are:. Then use a \n",
    "slice to print three items from the middle of the list\n",
    "- Print the message The last three items in the list are:. Then use a slice to \n",
    "print the last three items in the list."
   ]
  },
  {
   "cell_type": "code",
   "execution_count": 10,
   "metadata": {},
   "outputs": [
    {
     "name": "stdout",
     "output_type": "stream",
     "text": [
      "A very Good friend Abdulkerim\n",
      "A very Good friend Abdulgafar\n",
      "A very Good friend Salman\n",
      "____________________________________\n",
      "A very Good friend Mufidat\n",
      "A very Good friend Yusuf\n",
      "A very Good friend fhareedat\n",
      "____________________________________\n",
      "A very Good friend Mufidat\n",
      "A very Good friend Yusuf\n",
      "A very Good friend fhareedat\n",
      "____________________________________\n"
     ]
    }
   ],
   "source": [
    "#Print the message The first three items in the list are:. Then use a slice to \n",
    "#print the first three items from that program’s list.\n",
    "\n",
    "names = ['Abdulkerim', 'Abdulgafar', 'Salman', 'Mufidat', 'Yusuf', 'fhareedat']\n",
    "for name in names[:3]:\n",
    "    print(f'A very Good friend {name}')\n",
    "print(\"____________________________________\")\n",
    "#Print the message Three items from the middle of the list are:. Then use a \n",
    "#slice to print three items from the middle of the list.\n",
    "\n",
    "\n",
    "names = ['Abdulkerim', 'Abdulgafar', 'Salman', 'Mufidat', 'Yusuf', 'fhareedat']\n",
    "for name in names[3:]:\n",
    "    print(f'A very Good friend {name}')\n",
    "print(\"____________________________________\")\n",
    "\n",
    "#Print the message The last three items in the list are:. Then use a slice to \n",
    "#print the last three items in the list\n",
    "names = ['Abdulkerim', 'Abdulgafar', 'Salman', 'Mufidat', 'Yusuf', 'fhareedat']\n",
    "for name in names[3:]:\n",
    "    print(f'A very Good friend {name}')\n",
    "print(\"____________________________________\")"
   ]
  },
  {
   "cell_type": "markdown",
   "metadata": {},
   "source": [
    "**4-11.** My Pizzas, Your Pizzas: Start with your program from Exercise 4-1 (page 56). \n",
    "Make a copy of the list of pizzas, and call it friend_pizzas. Then, do the \n",
    "following:\n",
    "- Add a new pizza to the original list\n",
    "- Add a different pizza to the list friend_pizzas.\n",
    "- remove that you have two separate lists. Print the message My favorite pizza are:, and then use a for loop to print the first list. Print the message My \n",
    "friend’s favorite pizzas are:, and then use a for loop to print the second list. \n",
    "Make sure each new pizza is stored in the appropriate list"
   ]
  },
  {
   "cell_type": "code",
   "execution_count": 33,
   "metadata": {},
   "outputs": [
    {
     "name": "stdout",
     "output_type": "stream",
     "text": [
      "My favorite pizzas are:\n",
      "['cake', 'cornflake', 'cassavaflavor', 'fufu', 'popcorn', 'carrot', 'plantainchips']\n",
      "______________________________________\n",
      "My favorite pizzas are:\n",
      "['cake', 'cornflake', 'cassavaflavor', 'fufu', 'popcorn', 'carrot']\n",
      "______________________________________\n",
      "cake\n",
      "cornflake\n",
      "cassavaflavor\n",
      "fufu\n",
      "popcorn\n",
      "carrot\n",
      "______________________________________\n",
      "cake\n",
      "cornflake\n",
      "cassavaflavor\n",
      "fufu\n",
      "popcorn\n",
      "carrot\n",
      "plantainchips\n"
     ]
    }
   ],
   "source": [
    "pizzas = friend_pizzas[:]\n",
    "\n",
    "friend_pizzas = ['cake', 'cornflake', 'cassavaflavor', 'fufu', 'popcorn']\n",
    "#Add new pizza to the original list\n",
    "pizzas.append('plantainchips')\n",
    "\n",
    "#Add a different pizza to the list friend_pizzas\n",
    "friend_pizzas.append('carrot')\n",
    "\n",
    "#printint the different list\n",
    "print('My favorite pizzas are:', pizzas, sep=\"\\n\")\n",
    "print(\"______________________________________\")\n",
    "\n",
    "print('My favorite pizzas are:', friend_pizzas, sep=\"\\n\")\n",
    "print(\"______________________________________\")\n",
    "\n",
    "for friend_pizza in friend_pizzas:\n",
    "    print(friend_pizza)\n",
    "print(\"______________________________________\")\n",
    "\n",
    "for pizza in pizzas:\n",
    "    print(pizza)"
   ]
  },
  {
   "cell_type": "markdown",
   "metadata": {},
   "source": [
    "**4-12.** More Loops: All versions of foods.py in this section have avoided using \n",
    "for loops when printing, to save space. Choose a version of foods.py, and \n",
    "write two for loops to print each list of foods"
   ]
  },
  {
   "cell_type": "code",
   "execution_count": 42,
   "metadata": {},
   "outputs": [
    {
     "name": "stdout",
     "output_type": "stream",
     "text": [
      "['cake', 'cornflake', 'cassavaflavor', 'fufu', 'popcorn', 'carrot']\n",
      "____________________________________\n",
      "[['cake', 'cornflake', 'cassavaflavor', 'fufu', 'popcorn', 'carrot'], ['cake', 'cornflake', 'cassavaflavor', 'fufu', 'popcorn', 'carrot'], ['cake', 'cornflake', 'cassavaflavor', 'fufu', 'popcorn', 'carrot'], ['cake', 'cornflake', 'cassavaflavor', 'fufu', 'popcorn', 'carrot'], ['cake', 'cornflake', 'cassavaflavor', 'fufu', 'popcorn', 'carrot'], ['cake', 'cornflake', 'cassavaflavor', 'fufu', 'popcorn', 'carrot'], ['cake', 'cornflake', 'cassavaflavor', 'fufu', 'popcorn', 'carrot']]\n"
     ]
    }
   ],
   "source": [
    "x = [x for x in friend_pizzas]\n",
    "\n",
    "z = [x for z in pizzas]\n",
    "\n",
    "print(x)\n",
    "print(\"____________________________________\")\n",
    "print(z)\n"
   ]
  }
 ],
 "metadata": {
  "kernelspec": {
   "display_name": "Arewa-work-space",
   "language": "python",
   "name": "python3"
  },
  "language_info": {
   "codemirror_mode": {
    "name": "ipython",
    "version": 3
   },
   "file_extension": ".py",
   "mimetype": "text/x-python",
   "name": "python",
   "nbconvert_exporter": "python",
   "pygments_lexer": "ipython3",
   "version": "3.12.7"
  }
 },
 "nbformat": 4,
 "nbformat_minor": 2
}
