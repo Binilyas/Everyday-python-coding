{
 "cells": [
  {
   "cell_type": "markdown",
   "metadata": {},
   "source": [
    "# WELCOME TO MY CHAPTER 4\n",
    "**LOOPING THROUGH AN ENTIRE LIST**\n",
    "\n",
    "*WHY LOOPING?*\n",
    "* Lopping allow you to make sentence with entire list with just line of code \n",
    "* looping make your code to be short and descriptive\n",
    "* looping allow you to manage your input internally when a new item is added \n",
    "* To avoids msitake error\n",
    "\n",
    "FOR EXAMPLES\n"
   ]
  },
  {
   "cell_type": "code",
   "execution_count": 4,
   "metadata": {},
   "outputs": [
    {
     "name": "stdout",
     "output_type": "stream",
     "text": [
      "alice\n",
      "david\n",
      "carolina\n"
     ]
    }
   ],
   "source": [
    "magicians = ['alice', 'david', 'carolina']\n",
    "for magician in magicians:\n",
    "    print(magician)"
   ]
  },
  {
   "cell_type": "markdown",
   "metadata": {},
   "source": [
    "The above code is looping\n",
    "We first define a variable for our list. then we define a loop. this tell python to pull items from magicians and assighned it to magician variable. then we print the magician\n",
    "\n",
    "Also keep in mind when writing your own for loops that you can choose \n",
    "any name you want for the temporary variable that will be associated with \n",
    "each value in the list. However, it’s helpful to choose a meaningful name \n",
    "that represents a single item from the list. For example, here’s a good way to \n",
    "start a for loop for a list of cats, a list of dogs, and a general list of items:\n",
    "\n",
    "for cat in cats:\n",
    "\n",
    "for dog in dogs:\n",
    "\n",
    "for item in list_of_items:"
   ]
  },
  {
   "cell_type": "markdown",
   "metadata": {},
   "source": [
    "#### **Doing More within a Loop**"
   ]
  },
  {
   "cell_type": "code",
   "execution_count": 9,
   "metadata": {},
   "outputs": [
    {
     "name": "stdout",
     "output_type": "stream",
     "text": [
      "Alice, that is a great trick\n",
      "i can't wait to see your next trick,Alice, \n",
      "\n",
      "David, that is a great trick\n",
      "i can't wait to see your next trick,David, \n",
      "\n",
      "Carolina, that is a great trick\n",
      "i can't wait to see your next trick,Carolina, \n",
      "\n",
      "THANK YOU EVERYONE THAT IS GREAT TRICK\n"
     ]
    }
   ],
   "source": [
    "magicians = ['alice', 'david', 'carolina']\n",
    "for magician in magicians:\n",
    "    print(f'{magician.title()}, that is a great trick')\n",
    "    print(f\"i can't wait to see your next trick,{magician.title()}, \\n\")\n",
    "print(\"THANK YOU EVERYONE THAT IS GREAT TRICK\")\n",
    "    "
   ]
  },
  {
   "cell_type": "markdown",
   "metadata": {},
   "source": [
    "## TRY IT YOUR SELF\n",
    "**4-1. Pizzas:** Think of at least three kinds of your favorite pizza. Store these \n",
    "pizza names in a list, and then use a for loop to print the name of each pizza.\n",
    "\n",
    "* Modify your for loop to print a sentence using the name of the pizza, \n",
    "instead of printing just the name of the pizza. For each pizza, you should \n",
    "have one line of output containing a simple statement like I like peperoni pizza.\n",
    "* Add a line at the end of your program, outside the for loop, that states \n",
    "how much you like pizza. The output should consist of three or more lines \n",
    "about the kinds of pizza you like and then an additional sentence, such as \n",
    "I really love pizza"
   ]
  },
  {
   "cell_type": "code",
   "execution_count": 13,
   "metadata": {},
   "outputs": [
    {
     "name": "stdout",
     "output_type": "stream",
     "text": [
      "RICE i like rice\n",
      "BEANS i like beans but make me feel dizzy\n",
      "EGG i love egg everybody love egg\n"
     ]
    }
   ],
   "source": [
    "fav_food = ['rice', 'beans', 'egg']\n",
    "for food in fav_food:\n",
    "    if food == \"rice\":\n",
    "        print(food.upper() + \" i like rice\")\n",
    "    elif food == \"beans\":\n",
    "        print(food.upper() + \" i like beans but make me feel dizzy\")\n",
    "    elif food == \"egg\":\n",
    "        print(food.upper() + \" i love egg everybody love egg\")"
   ]
  },
  {
   "cell_type": "code",
   "execution_count": 19,
   "metadata": {},
   "outputs": [
    {
     "name": "stdout",
     "output_type": "stream",
     "text": [
      "everybody have a favorite, one of my favorite is: rice\n",
      "rice is very nutritious food \n",
      "\n",
      "everybody have a favorite, one of my favorite is: beans\n",
      "beans is very nutritious food \n",
      "\n",
      "everybody have a favorite, one of my favorite is: egg\n",
      "egg is very nutritious food \n",
      "\n",
      "i realy love food \n"
     ]
    }
   ],
   "source": [
    "fav_food = ['rice', 'beans', 'egg']\n",
    "for food in fav_food:\n",
    "    print(f\"everybody have a favorite, one of my favorite is: {food}\")\n",
    "    print(f\"{food} is very nutritious food \\n\")\n",
    "print (\"i realy love food \")"
   ]
  },
  {
   "cell_type": "markdown",
   "metadata": {},
   "source": [
    "**4-2. Animals:** Think of at least three different animals that have a common characteristic. Store the names of these animals in a list, and then use a for loop to \n",
    "print out the name of each animal.\n",
    "\n",
    "• Modify your program to print a statement about each animal, such as A \n",
    "dog would make a great pet.\n",
    "\n",
    "• Add a line at the end of your program, stating what these animals have in \n",
    "common. You could print a sentence, such as Any of these animals would \n",
    "make a great pet"
   ]
  },
  {
   "cell_type": "code",
   "execution_count": 23,
   "metadata": {},
   "outputs": [
    {
     "name": "stdout",
     "output_type": "stream",
     "text": [
      "gaot\n",
      "there make a very good meet\n",
      "\n",
      "cow\n",
      "there make a very good meet\n",
      "\n",
      "sheep\n",
      "there make a very good meet\n",
      "\n"
     ]
    }
   ],
   "source": [
    "animals = ['gaot', 'cow','sheep']\n",
    "for animal in animals:\n",
    "    print(animal)\n",
    "    print(f\"there make a very good meet\\n\")"
   ]
  }
 ],
 "metadata": {
  "kernelspec": {
   "display_name": "Arewa-work-space",
   "language": "python",
   "name": "python3"
  },
  "language_info": {
   "codemirror_mode": {
    "name": "ipython",
    "version": 3
   },
   "file_extension": ".py",
   "mimetype": "text/x-python",
   "name": "python",
   "nbconvert_exporter": "python",
   "pygments_lexer": "ipython3",
   "version": "3.12.7"
  }
 },
 "nbformat": 4,
 "nbformat_minor": 2
}
