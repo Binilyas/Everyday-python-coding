{
 "cells": [
  {
   "cell_type": "markdown",
   "metadata": {},
   "source": [
    "### TUPLE EXERCISES\n",
    "\n",
    "### **TRY IT YOUR SELF**"
   ]
  },
  {
   "cell_type": "markdown",
   "metadata": {},
   "source": [
    "**4-13.** Buffet: A buffet-style restaurant offers only five basic foods. Think of five \n",
    "simple foods, and store them in a tuple"
   ]
  },
  {
   "cell_type": "code",
   "execution_count": null,
   "metadata": {},
   "outputs": [
    {
     "name": "stdout",
     "output_type": "stream",
     "text": [
      "\n",
      "foods resturant offers are:\n",
      "rice\n",
      "beans\n",
      "bread\n",
      "egg\n",
      "fish\n",
      "____________________________________\n",
      "The new menu of food are as follow:\n",
      "rice\n",
      "beans\n",
      "fruits\n",
      "egg\n",
      "meat\n"
     ]
    }
   ],
   "source": [
    "simple_foods = ('rice', 'beans', 'bread', 'egg','fish')\n",
    "\n",
    "#Use a for loop to print each food the restaurant offers.\n",
    "print(\"\\nfoods resturant offers are:\")\n",
    "for simple_food in simple_foods:\n",
    "    print(simple_food)\n",
    "print(\"____________________________________\")\n",
    "#Try to modify one of the items, and make sure that Python rejects the \n",
    "#change.\n",
    "simple_foods[0] = 'meat'\n",
    "print(simple_foods)\n",
    "\n",
    "#The restaurant changes its menu, replacing two of the items with different \n",
    "#foods. Add a line that rewrites the tuple, and then use a for loop to print \n",
    "#each of the items on the revised menu.\n",
    "\n",
    "new_menus = ('rice', 'beans', 'fruits', 'egg','meat')\n",
    "print('The new menu of food are as follow:')\n",
    "for new_menu in new_menus:\n",
    "    print(new_menu)\n"
   ]
  }
 ],
 "metadata": {
  "kernelspec": {
   "display_name": "Arewa-work-space",
   "language": "python",
   "name": "python3"
  },
  "language_info": {
   "codemirror_mode": {
    "name": "ipython",
    "version": 3
   },
   "file_extension": ".py",
   "mimetype": "text/x-python",
   "name": "python",
   "nbconvert_exporter": "python",
   "pygments_lexer": "ipython3",
   "version": "3.12.7"
  }
 },
 "nbformat": 4,
 "nbformat_minor": 2
}
