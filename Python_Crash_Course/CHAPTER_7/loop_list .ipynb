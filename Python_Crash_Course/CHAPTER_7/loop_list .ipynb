{
 "cells": [
  {
   "cell_type": "markdown",
   "metadata": {},
   "source": [
    "#### Using a while Loop with Lists and Dictionaries"
   ]
  },
  {
   "cell_type": "markdown",
   "metadata": {},
   "source": [
    "### Moving Items from One List to Another\n",
    "\n",
    "Start with users that need to be verified,\n",
    "and an empty list to hold confirmed users.\n",
    "for example"
   ]
  },
  {
   "cell_type": "code",
   "execution_count": 12,
   "metadata": {},
   "outputs": [
    {
     "name": "stdout",
     "output_type": "stream",
     "text": [
      "Verified user are: Adam\n",
      "Verified user are: Ahmad\n",
      "Verified user are: Mufidat\n",
      "Verified user are: Ilyasu\n",
      "\n",
      "The following users have been confiremd\n",
      "Adam\n",
      "Ahmad\n",
      "Mufidat\n",
      "Ilyasu\n"
     ]
    }
   ],
   "source": [
    "#Start with users that need to be verified,\n",
    "#and an empty list to hold confirmed users.\n",
    "\n",
    "unconfirmed_users = ['ilyasu', 'mufidat', 'ahmad', 'adam']\n",
    "confirmed_users = []\n",
    "\n",
    "# Verify each user until there are no more unconfirmed users.\n",
    "# Move each verified user into the list of confirmed users.\n",
    "while unconfirmed_users:\n",
    "    curent_user = unconfirmed_users.pop()\n",
    "    print(f\"Verified user are: {curent_user.title()}\")\n",
    "    confirmed_users.append(curent_user)\n",
    "\n",
    "# Display all confirmed users.\n",
    "print(\"\\nThe following users have been confiremd\")\n",
    "for confirmed_user in confirmed_users:\n",
    "    print(confirmed_user.title())\n"
   ]
  },
  {
   "cell_type": "markdown",
   "metadata": {},
   "source": [
    "### Removing All Instances of Specific Values from a List \n",
    "\n",
    "This can be use to duplicate value or an item from the list "
   ]
  },
  {
   "cell_type": "code",
   "execution_count": 22,
   "metadata": {},
   "outputs": [
    {
     "name": "stdout",
     "output_type": "stream",
     "text": [
      "['dog', 'cat', 'dog', 'goldfish', 'cat', 'rabbit', 'cat']\n",
      "['dog', 'dog', 'goldfish', 'rabbit']\n"
     ]
    }
   ],
   "source": [
    "# for example let declear a list containing pets\n",
    "\n",
    "pets = ['dog', 'cat', 'dog', 'goldfish', 'cat', 'rabbit', 'cat']\n",
    "print(pets)\n",
    "\n",
    "# using while loop to remove the value of cats\n",
    "\n",
    "while 'cat' in pets:\n",
    "    pets.remove('cat')\n",
    "\n",
    "print(pets)"
   ]
  },
  {
   "cell_type": "markdown",
   "metadata": {},
   "source": [
    "### Filling a Dictionary with User Input"
   ]
  },
  {
   "cell_type": "code",
   "execution_count": 30,
   "metadata": {},
   "outputs": [
    {
     "name": "stdout",
     "output_type": "stream",
     "text": [
      "\n",
      "----- poll Result -----\n",
      "Abdulrahman would like to play for manchester united. \n",
      "Abs would like to play for manchester united. \n"
     ]
    }
   ],
   "source": [
    "# set a flag to indicate that polling is active\n",
    "\n",
    "responses = {}\n",
    "polling_active = True\n",
    "while polling_active:\n",
    "    #Prompt a users\n",
    "    Name = input(\"\\nWhat is your name? \")\n",
    "    response = input(\"\\nWhich Football club will you like to play someday? \")\n",
    "    #Store the responses in the dic\n",
    "    responses[Name] = response\n",
    "\n",
    "    # find out if anyone is going to take the poll\n",
    "    repeat = input(\"\\nWould you like to let another person respond? (yes/no) \")\n",
    "    if repeat == 'no':\n",
    "        polling_active = False\n",
    "\n",
    "# Polling Results is Complete Show the results\n",
    "print(\"\\n----- poll Result -----\")\n",
    "for name in responses:\n",
    "    print(f'{name} would like to play for {response}. ')"
   ]
  },
  {
   "cell_type": "markdown",
   "metadata": {},
   "source": [
    "## EXERCISES \n",
    "\n",
    "### TRY IT YOUR SELF"
   ]
  },
  {
   "cell_type": "markdown",
   "metadata": {},
   "source": [
    "**7-8. Deli:** Make a list called sandwich_orders and fill it with the names of various \n",
    "sandwiches. Then make an empty list called finished_sandwiches. Loop through \n",
    "the list of sandwich orders and print a message for each order, such as I made \n",
    "your tuna sandwich. As each sandwich is made, move it to the list of finished \n",
    "sandwiches. After all the sandwiches have been made, print a message listing \n",
    "each sandwich that was made."
   ]
  },
  {
   "cell_type": "code",
   "execution_count": 60,
   "metadata": {},
   "outputs": [
    {
     "name": "stdout",
     "output_type": "stream",
     "text": [
      "['eggs ships', 'fishpie', 'meat pie', 'tea']\n",
      "I have made some tea for you\n",
      "I have made some meat pie\n",
      "\n",
      "I made some fishpie for you\n",
      "____________________________\n"
     ]
    }
   ],
   "source": [
    "sandwich_orders = ['eggs ships', 'fishpie', 'meat pie', 'tea']\n",
    "print(sandwich_orders)\n",
    "\n",
    "finished_sandwiches = []\n",
    "while sandwich_orders:\n",
    "    available = sandwich_orders.pop()\n",
    "    if available == 'tea':\n",
    "        print(\"I have made some tea for you\")\n",
    "    elif available == 'eggs ships':\n",
    "        print(\"I made some fishpie for you\")\n",
    "    elif available == 'meat pie':\n",
    "        print(\"I have made some meat pie\")\n",
    "    else:\n",
    "        print()\n",
    "print(\"____________________________\")\n",
    "\n",
    "while sandwich_orders:\n",
    "    finished_sandwiches.append(available)\n",
    "for finished_sandwiche in finished_sandwiches:\n",
    "    print(finished_sandwiche)"
   ]
  },
  {
   "cell_type": "code",
   "execution_count": 65,
   "metadata": {},
   "outputs": [
    {
     "name": "stdout",
     "output_type": "stream",
     "text": [
      "['eggs ships', 'fishpie', 'meat pie', 'tea']\n",
      "\n",
      "The following sadwinch was made\n",
      "tea\n",
      "meat pie\n",
      "fishpie\n",
      "eggs ships\n"
     ]
    }
   ],
   "source": [
    "sandwich_orders = ['eggs ships', 'fishpie', 'meat pie', 'tea']\n",
    "print(sandwich_orders)\n",
    "\n",
    "finished_sandwiches = []\n",
    "while sandwich_orders:\n",
    "    available = sandwich_orders.pop()\n",
    "    finished_sandwiches.append(available)\n",
    "\n",
    "print(f'\\nThe following sadwinch was made')\n",
    "for finished_sandwiche in finished_sandwiches:\n",
    "    print(finished_sandwiche)"
   ]
  },
  {
   "cell_type": "markdown",
   "metadata": {},
   "source": [
    "**7-9. No Pastrami:** Using the list sandwich_orders from Exercise 7-8, make sure \n",
    "the sandwich 'pastrami' appears in the list at least three times. Add code \n",
    "near the beginning of your program to print a message saying the deli has \n",
    "run out of pastrami, and then use a while loop to remove all occurrences of \n",
    "'pastrami' from sandwich_orders. Make sure no pastrami sandwiches end up \n",
    "in finished_sandwiches."
   ]
  },
  {
   "cell_type": "code",
   "execution_count": 71,
   "metadata": {},
   "outputs": [
    {
     "name": "stdout",
     "output_type": "stream",
     "text": [
      "Deli has run out of pastrami\n",
      "\n",
      "The available sandwich are:\n",
      "eggs ships\n",
      "fishpie\n",
      "meat pie\n",
      "tea\n"
     ]
    }
   ],
   "source": [
    "sandwich_orders = ['eggs ships',  'pastrami', 'fishpie',  'pastrami','meat pie',  'pastrami','tea',  'pastrami']\n",
    "\n",
    "print(\"Deli has run out of pastrami\")\n",
    "while  'pastrami' in sandwich_orders:\n",
    "    sandwich_orders.remove( 'pastrami')\n",
    "print(\"\\nThe available sandwich are:\")\n",
    "for sandwich_order in sandwich_orders:\n",
    "    print(sandwich_order)"
   ]
  },
  {
   "cell_type": "markdown",
   "metadata": {},
   "source": [
    "**7-10. Dream Vacation:** Write a program that polls users about their dream vacation. Write a prompt similar to If you could visit one place in the world, where \n",
    "would you go? Include a block of code that prints the results of the poll."
   ]
  },
  {
   "cell_type": "code",
   "execution_count": null,
   "metadata": {},
   "outputs": [
    {
     "name": "stdout",
     "output_type": "stream",
     "text": [
      "\n",
      "-------poll results------\n",
      "my name is abdulrahman and i would like to visit Lagos\n",
      "my name is Suleiman  and i would like to visit Lagos\n"
     ]
    }
   ],
   "source": [
    "data = {}\n",
    "active = True\n",
    "while active:\n",
    "    name = input(\"\\n What is your name? \")\n",
    "    response = input(\"\\nWhere would you like to visit somedays? \")\n",
    "    data[name] = response\n",
    "\n",
    "    repeat = input(\"\\nWould you like to let another person respond? (yes/no) \")\n",
    "    if repeat == 'no':\n",
    "        active = False\n",
    "print('\\n-------poll results------')\n",
    "for name  in data:\n",
    "    print(f\"my name is {name} and i would like to visit {response}\")\n",
    "    "
   ]
  }
 ],
 "metadata": {
  "kernelspec": {
   "display_name": "Arewa-work-space",
   "language": "python",
   "name": "python3"
  },
  "language_info": {
   "codemirror_mode": {
    "name": "ipython",
    "version": 3
   },
   "file_extension": ".py",
   "mimetype": "text/x-python",
   "name": "python",
   "nbconvert_exporter": "python",
   "pygments_lexer": "ipython3",
   "version": "3.12.7"
  }
 },
 "nbformat": 4,
 "nbformat_minor": 2
}
