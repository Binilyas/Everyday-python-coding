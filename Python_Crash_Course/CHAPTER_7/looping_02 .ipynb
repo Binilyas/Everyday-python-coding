{
 "cells": [
  {
   "cell_type": "markdown",
   "metadata": {},
   "source": [
    "### Introducing while Loops"
   ]
  },
  {
   "cell_type": "code",
   "execution_count": 1,
   "metadata": {},
   "outputs": [
    {
     "name": "stdout",
     "output_type": "stream",
     "text": [
      "1\n",
      "2\n",
      "3\n",
      "4\n",
      "5\n",
      "______________________________\n",
      "0\n",
      "1\n",
      "2\n",
      "3\n",
      "4\n"
     ]
    }
   ],
   "source": [
    "curent_number = 1\n",
    "while curent_number <=5:\n",
    "    print(curent_number)\n",
    "    curent_number +=1\n",
    "print(\"______________________________\")\n",
    "\n",
    "number = 0\n",
    "while number <=10:\n",
    "    if number == 5:\n",
    "        break\n",
    "    print(number)\n",
    "    number = number +1"
   ]
  },
  {
   "cell_type": "markdown",
   "metadata": {},
   "source": [
    "### Letting the User Choose When to Quit"
   ]
  },
  {
   "cell_type": "code",
   "execution_count": 8,
   "metadata": {},
   "outputs": [
    {
     "name": "stdout",
     "output_type": "stream",
     "text": [
      "hello\n",
      "thank you\n"
     ]
    }
   ],
   "source": [
    "prompt = \"\\nTell me something, and i will repeat it back to you:\"\n",
    "prompt += \"\\nEnter 'Quit' to end the programme \"\n",
    "\n",
    "message = \"\"\n",
    "while message != 'quit':\n",
    "    message = input(prompt)\n",
    "    if message != 'quit':\n",
    "          print(message)"
   ]
  },
  {
   "cell_type": "markdown",
   "metadata": {},
   "source": [
    "### Using a Flag\n",
    "\n",
    "flag can use when you have alot of programm running for example"
   ]
  },
  {
   "cell_type": "code",
   "execution_count": 12,
   "metadata": {},
   "outputs": [
    {
     "name": "stdout",
     "output_type": "stream",
     "text": [
      "hello\n"
     ]
    }
   ],
   "source": [
    "active = True\n",
    "while active:\n",
    "    message = input(prompt)\n",
    "    if message == 'quit':\n",
    "        active = False\n",
    "    else:\n",
    "        print(message)"
   ]
  },
  {
   "cell_type": "code",
   "execution_count": 14,
   "metadata": {},
   "outputs": [
    {
     "name": "stdout",
     "output_type": "stream",
     "text": [
      "hello\n",
      "thank you\n"
     ]
    }
   ],
   "source": [
    "game = \"\\nCan you let us about your favorite game? \"\n",
    "game += \"\\nEnter the name of the game \"\n",
    "message = \"\"\n",
    "active = True\n",
    "while active:\n",
    "    message = input(game)\n",
    "    if message == 'quit':\n",
    "        active = False\n",
    "    else:\n",
    "        print(message)\n",
    "    "
   ]
  },
  {
   "cell_type": "markdown",
   "metadata": {},
   "source": [
    "#### Using break to exist a lop"
   ]
  },
  {
   "cell_type": "code",
   "execution_count": 16,
   "metadata": {},
   "outputs": [
    {
     "name": "stdout",
     "output_type": "stream",
     "text": [
      "i will love to go Kaduna!\n",
      "i will love to go Kano!\n",
      "i will love to go Abuja!\n",
      "i will love to go Maidugri!\n"
     ]
    }
   ],
   "source": [
    "prompt = \"\\nPlease enter the name of a city you have visited:\"\n",
    "prompt += \"\\n(Enter 'quit' when you are finished.) \"\n",
    "\n",
    "while True:\n",
    "    city = input(prompt)\n",
    "    if city == 'quit':\n",
    "        break\n",
    "    else:\n",
    "        print(f'i will love to go {city.title()}!')"
   ]
  },
  {
   "cell_type": "markdown",
   "metadata": {},
   "source": [
    "### Using Continue in the loop"
   ]
  },
  {
   "cell_type": "code",
   "execution_count": 1,
   "metadata": {},
   "outputs": [
    {
     "name": "stdout",
     "output_type": "stream",
     "text": [
      "1\n",
      "3\n",
      "5\n",
      "7\n",
      "9\n"
     ]
    }
   ],
   "source": [
    "curent_number = 0\n",
    "while curent_number <10:\n",
    "    curent_number +=1\n",
    "    if curent_number % 2 == 0:\n",
    "        continue\n",
    "\n",
    "    print(curent_number)\n"
   ]
  },
  {
   "cell_type": "markdown",
   "metadata": {},
   "source": [
    "## EXERCISES \n",
    "\n",
    "### TRY IT YOUR SELF"
   ]
  },
  {
   "cell_type": "markdown",
   "metadata": {},
   "source": [
    "**7-4.** Pizza Toppings: Write a loop that prompts the user to enter a series of \n",
    "pizza toppings until they enter a 'quit' value. As they ente"
   ]
  },
  {
   "cell_type": "code",
   "execution_count": null,
   "metadata": {},
   "outputs": [
    {
     "name": "stdout",
     "output_type": "stream",
     "text": [
      "rice\n",
      "beans\n",
      "paw paw\n"
     ]
    }
   ],
   "source": [
    "prompt = \"\\nPlease Enter a series of pizza topping \"\n",
    "prompt += \"\\nEnter 'Quit' when you are done \"\n",
    "\n",
    "active = True\n",
    "while active:\n",
    "    pizza =input(prompt)\n",
    "    if pizza == 'quit':\n",
    "        active = False\n",
    "    else:\n",
    "        print(pizza)\n",
    "\n"
   ]
  },
  {
   "cell_type": "markdown",
   "metadata": {},
   "source": [
    "**7-5.** Movie Tickets: A movie theater charges different ticket prices depending on \n",
    "a person’s age. If a person is under the age of 3, the ticket is free; if they are \n",
    "between 3 and 12, the ticket is $10; and if they are over age 12, the ticket is \n",
    "$15. Write a loop in which you ask users their age, and then tell them the cost \n",
    "of their movie ticket"
   ]
  },
  {
   "cell_type": "code",
   "execution_count": 2,
   "metadata": {},
   "outputs": [
    {
     "name": "stdout",
     "output_type": "stream",
     "text": [
      " 2 years you Ticket fees is 10$\n",
      " 5 years you Ticket fees is 10$\n",
      " 2 years you Ticket fees is 10$\n"
     ]
    },
    {
     "ename": "",
     "evalue": "",
     "output_type": "error",
     "traceback": [
      "\u001b[1;31mThe Kernel crashed while executing code in the current cell or a previous cell. \n",
      "\u001b[1;31mPlease review the code in the cell(s) to identify a possible cause of the failure. \n",
      "\u001b[1;31mClick <a href='https://aka.ms/vscodeJupyterKernelCrash'>here</a> for more info. \n",
      "\u001b[1;31mView Jupyter <a href='command:jupyter.viewOutput'>log</a> for further details."
     ]
    }
   ],
   "source": [
    "prompt = \"\\nWelcome to movies theater\"\n",
    "prompt += \"\\nEnter your age? \"\n",
    "\n",
    "active = True\n",
    "while active:\n",
    "    age = int(input(prompt))\n",
    "    if age > 13:\n",
    "         print(f\" {age} years oldThe cost of you ticket is 15$\")\n",
    "    elif age == 3 or 4 or 5 or 6 or 7 or 8 or 9 or 10 or 11 or 12:\n",
    "        print(f\" {age} years you Ticket fees is 10$\")\n",
    "    elif age <3:\n",
    "        print(f\" {age} years, You still under age the ticket is free for you\")\n",
    "    else:\n",
    "        ()"
   ]
  },
  {
   "cell_type": "markdown",
   "metadata": {},
   "source": [
    "**7-6. Three Exits:** Write different versions of either Exercise 7-4 or 7-5 that do \n",
    "each of the following at least once:\n",
    "\n",
    "* Use a conditional test in the while statement to stop the loop.\n",
    "* Use an active variable to control how long the loop runs..\n",
    "* Use a break statement to exit the loop when the user enters a 'quit' value"
   ]
  },
  {
   "cell_type": "code",
   "execution_count": 1,
   "metadata": {},
   "outputs": [
    {
     "name": "stdout",
     "output_type": "stream",
     "text": [
      "spag\n",
      "water melon\n",
      "orange\n",
      "millo\n"
     ]
    }
   ],
   "source": [
    "prompt = \"\\nPlease Enter a series of pizza topping \"\n",
    "prompt += \"\\nEnter 'Quit' when you are done \"\n",
    "\n",
    "active = True\n",
    "while active:\n",
    "    pizza =input(prompt)\n",
    "    if pizza == 'quit':\n",
    "        active = False\n",
    "    else:\n",
    "        print(pizza)"
   ]
  }
 ],
 "metadata": {
  "kernelspec": {
   "display_name": "Arewa-work-space",
   "language": "python",
   "name": "python3"
  },
  "language_info": {
   "codemirror_mode": {
    "name": "ipython",
    "version": 3
   },
   "file_extension": ".py",
   "mimetype": "text/x-python",
   "name": "python",
   "nbconvert_exporter": "python",
   "pygments_lexer": "ipython3",
   "version": "3.12.7"
  }
 },
 "nbformat": 4,
 "nbformat_minor": 2
}
