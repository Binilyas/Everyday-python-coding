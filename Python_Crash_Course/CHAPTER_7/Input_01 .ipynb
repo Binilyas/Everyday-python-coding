{
 "cells": [
  {
   "cell_type": "markdown",
   "metadata": {},
   "source": [
    "## User Input and while looping\n",
    "\n",
    "input is use ro collect user input for a purpose to collect for data, for application purposes "
   ]
  },
  {
   "cell_type": "markdown",
   "metadata": {},
   "source": [
    "How to use input function are as follow"
   ]
  },
  {
   "cell_type": "code",
   "execution_count": 2,
   "metadata": {},
   "outputs": [
    {
     "name": "stdout",
     "output_type": "stream",
     "text": [
      "Hello Testing my input function\n",
      "let me help you to add some numbers\n",
      "The Sum of the two numbers provided is: 80\n"
     ]
    }
   ],
   "source": [
    "message = input(\"Tell me something and i will repeat back to you\")\n",
    "print(message)\n",
    "\n",
    "print(\"let me help you to add some numbers\")\n",
    "num_1 = int(input(\"Please provide the first number\"))\n",
    "num_2 = int(input(\"Please provide the second number\"))\n",
    "print(f'The Sum of the two numbers provided is: {num_1 + num_2}')"
   ]
  },
  {
   "cell_type": "markdown",
   "metadata": {},
   "source": [
    "### Writting clear Prompts"
   ]
  },
  {
   "cell_type": "code",
   "execution_count": 10,
   "metadata": {},
   "outputs": [
    {
     "name": "stdout",
     "output_type": "stream",
     "text": [
      "\n",
      "Hello, Abdulrahman\n",
      "_____________________________________\n"
     ]
    }
   ],
   "source": [
    "name = input(\"Please enter your name\")\n",
    "print(f\"\\nHello, {name}\")\n",
    "print(\"_____________________________________\")\n",
    "\n",
    "Prompt = \"If you share your name we can personlaze the message you see \"\n",
    "Prompt += \"\\nWhat is your first name? \"\n",
    "name = input(Prompt)\n"
   ]
  },
  {
   "cell_type": "code",
   "execution_count": 13,
   "metadata": {},
   "outputs": [
    {
     "name": "stdout",
     "output_type": "stream",
     "text": [
      "My name is Suleiman, and I am 28 years old\n"
     ]
    }
   ],
   "source": [
    "prompt_1 = \"Could you please provide your name for this data  \"\n",
    "prompt_1 += \"\\nWhat is your full name \"\n",
    "\n",
    "prompt_2 = \"We would like to make sentence with your age as well \"\n",
    "prompt_2 += \"\\nHow old are you? \"\n",
    "message = input(prompt_1)\n",
    "message_1 = input(prompt_2)\n",
    "print(f\"My name is {message}, and I am {message_1} years old\")"
   ]
  },
  {
   "cell_type": "markdown",
   "metadata": {},
   "source": [
    "### Using Int() to accept Numerical Input"
   ]
  },
  {
   "cell_type": "code",
   "execution_count": 21,
   "metadata": {},
   "outputs": [
    {
     "name": "stdout",
     "output_type": "stream",
     "text": [
      "55\n"
     ]
    },
    {
     "data": {
      "text/plain": [
       "False"
      ]
     },
     "execution_count": 21,
     "metadata": {},
     "output_type": "execute_result"
    }
   ],
   "source": [
    "#age = input(\"Please enter your age\")\n",
    "#print(age)\n",
    "\n",
    "age = int(input(\"How old are you\"))\n",
    "print (age)\n",
    "age >= 85"
   ]
  },
  {
   "cell_type": "code",
   "execution_count": 26,
   "metadata": {},
   "outputs": [
    {
     "name": "stdout",
     "output_type": "stream",
     "text": [
      "\n",
      "You have to wait for 2years, for you to be able ride\n"
     ]
    }
   ],
   "source": [
    "height = int(input(\"How old are You \"))\n",
    "if height >=48:\n",
    "    print(\"\\nYou are old enough to ride!\")\n",
    "else:\n",
    "    print(f\"\\nYou have to wait for {48 - height}years, for you to be able ride\")"
   ]
  },
  {
   "cell_type": "markdown",
   "metadata": {},
   "source": [
    "### Module Operator\n"
   ]
  },
  {
   "cell_type": "code",
   "execution_count": 30,
   "metadata": {},
   "outputs": [
    {
     "data": {
      "text/plain": [
       "2"
      ]
     },
     "execution_count": 30,
     "metadata": {},
     "output_type": "execute_result"
    }
   ],
   "source": [
    "4 % 3\n",
    "5 % 3\n",
    "7 % 5"
   ]
  },
  {
   "cell_type": "code",
   "execution_count": 32,
   "metadata": {},
   "outputs": [
    {
     "name": "stdout",
     "output_type": "stream",
     "text": [
      "\n",
      "The number is an even number\n"
     ]
    }
   ],
   "source": [
    "number = int(input(\"Enter a number, and i will tell you if it is even or odd: \"))\n",
    "if number % 2 == 0:\n",
    "    print(f'\\nThe number is an even number')\n",
    "else:\n",
    "    print(\"\\nThe number is an odd number\")"
   ]
  },
  {
   "cell_type": "markdown",
   "metadata": {},
   "source": [
    "### EXERCISES \n",
    "\n",
    "### TRY IT YOUR SELF"
   ]
  },
  {
   "cell_type": "markdown",
   "metadata": {},
   "source": [
    "**7-1.** Rental Car: Write a program that asks the user what kind of rental car they \n",
    "would like. Print a message about that car, such as “Let me see if I can find you \n",
    "a Subaru."
   ]
  },
  {
   "cell_type": "code",
   "execution_count": 34,
   "metadata": {},
   "outputs": [
    {
     "name": "stdout",
     "output_type": "stream",
     "text": [
      "\n",
      "Let me contact the car dealer if we can see Subaru to buy\n"
     ]
    }
   ],
   "source": [
    "car = input(\"What kind will you like\")\n",
    "print(f\"\\nLet me contact the car dealer if we can see {car} to buy\")\n"
   ]
  },
  {
   "cell_type": "markdown",
   "metadata": {},
   "source": [
    "**7-2.** Restaurant Seating: Write a program that asks the user how many people \n",
    "are in their dinner group. If the answer is more than eight, print a message saying they’ll have to wait for a table. Otherwise, report that their table is ready."
   ]
  },
  {
   "cell_type": "code",
   "execution_count": 37,
   "metadata": {},
   "outputs": [
    {
     "name": "stdout",
     "output_type": "stream",
     "text": [
      "your group will have to wait for a table\n"
     ]
    }
   ],
   "source": [
    "resturant = int(input(\"How many people are in their dinner group\"))\n",
    "if resturant > 8:\n",
    "    print(\"your group will have to wait for a table\")\n",
    "else:\n",
    "    print(\"The table will be ready Thank You!\")"
   ]
  },
  {
   "cell_type": "markdown",
   "metadata": {},
   "source": [
    "**7-3.** Multiples of Ten: Ask the user for a number, and then report whether the \n",
    "number is a multiple of 10 or not"
   ]
  },
  {
   "cell_type": "code",
   "execution_count": 43,
   "metadata": {},
   "outputs": [
    {
     "name": "stdout",
     "output_type": "stream",
     "text": [
      "\n",
      "The number is not a multiple of 10\n"
     ]
    }
   ],
   "source": [
    "multiple = int(input(\"Enter a number and i will tell you weather is a multiple of 10\"))\n",
    "if multiple % 10 == 0:\n",
    "    print(\"\\nThe number is multiple of 10\")\n",
    "else:\n",
    "    print(\"\\nThe number is not a multiple of 10\")"
   ]
  }
 ],
 "metadata": {
  "kernelspec": {
   "display_name": "Arewa-work-space",
   "language": "python",
   "name": "python3"
  },
  "language_info": {
   "codemirror_mode": {
    "name": "ipython",
    "version": 3
   },
   "file_extension": ".py",
   "mimetype": "text/x-python",
   "name": "python",
   "nbconvert_exporter": "python",
   "pygments_lexer": "ipython3",
   "version": "3.12.7"
  }
 },
 "nbformat": 4,
 "nbformat_minor": 2
}
